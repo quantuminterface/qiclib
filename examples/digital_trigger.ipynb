{
 "cells": [
  {
   "cell_type": "markdown",
   "id": "a053cf37-42f4-4fd9-a0bc-17111508e336",
   "metadata": {},
   "source": [
    "# Digital Trigger capabilities\n",
    "\n",
    "The digital trigger is a simple digital output, mapped to ADCIO 0 to 7.\n",
    "For the location pf these pins, refer to the data sheets, schematics or documentation of the concrete board.\n",
    "\n",
    "- [ZCU216 Platform](https://docs.xilinx.com/r/en-US/ug1390-zcu216-eval-bd/Header)\n",
    "- [ZCU111 Platform](https://docs.xilinx.com/r/en-US/ug1271-zcu111-eval-bd/XM500-ADC/DAC-Data-and-Clock-SMA)\n",
    "\n",
    "Digital Triggers have a set of outputs that are activated by one call to `DigitalTrigger` and a length that defines how long these triggers are active."
   ]
  },
  {
   "cell_type": "code",
   "execution_count": 1,
   "id": "f0a3d073-b57d-4a48-b818-96dcebd50320",
   "metadata": {},
   "outputs": [
    {
     "name": "stdout",
     "output_type": "stream",
     "text": [
      "QKIT configuration initialized -> available as qkit.cfg[...]\n"
     ]
    },
    {
     "name": "stderr",
     "output_type": "stream",
     "text": [
      "/home/lukas/.local/lib/python3.10/site-packages/qiclib/packages/qkit_polyfill.py:38: UserWarning: If you intend to use the QiController together with Qkit, do not forget to start it with qkit.start() before creating the QiController instance.\n",
      "  warnings.warn(\n"
     ]
    },
    {
     "name": "stdout",
     "output_type": "stream",
     "text": [
      "[QiController] qiclib version: undetectable\n",
      "[QiController] Establishing remote connection to slot6-platform...\n",
      "[QiController] Detected QiController running on ZCU216 board\n",
      "[QiController] Firmware build time: 08.03.2024 09:21:19 (Revision D0B1168B)\n",
      "[QiController] Firmware with 4 digital unit cells detected.\n"
     ]
    }
   ],
   "source": [
    "import qiclib as ql\n",
    "from qiclib.code import *\n",
    "\n",
    "platform = \"slot6-platform\"\n",
    "qic = ql.QiController(platform)"
   ]
  },
  {
   "cell_type": "markdown",
   "id": "131e269d-c6f4-46f6-acd9-b9ac910960ad",
   "metadata": {},
   "source": [
    "# Simple triggers\n",
    "\n",
    "The next cells contain simple triggers that all output a pulse of 20 ns length"
   ]
  },
  {
   "cell_type": "code",
   "execution_count": 2,
   "id": "cadd1358-8e0f-46a7-9e6f-43e66f1c8cc3",
   "metadata": {},
   "outputs": [
    {
     "data": {
      "application/vnd.jupyter.widget-view+json": {
       "model_id": "",
       "version_major": 2,
       "version_minor": 0
      },
      "text/plain": [
       "HTML(value=\"<table style='width:100%'><tr><td> (0/1) </td><td>&#9992; -?-    </td><td>&#128336;  --:--:--   (e…"
      ]
     },
     "metadata": {},
     "output_type": "display_data"
    },
    {
     "data": {
      "application/vnd.jupyter.widget-view+json": {
       "model_id": "",
       "version_major": 2,
       "version_minor": 0
      },
      "text/plain": [
       "IntProgress(value=0, description='Averages', layout=Layout(width='95%'), max=1)"
      ]
     },
     "metadata": {},
     "output_type": "display_data"
    }
   ],
   "source": [
    "with QiJob() as simple_trigger:\n",
    "    q = QiCells(1)\n",
    "    DigitalTrigger(q[0], 20e-9, outputs=[0])\n",
    "\n",
    "simple_trigger.run(qic)"
   ]
  },
  {
   "cell_type": "markdown",
   "id": "ce54bd3d-0431-4451-8542-d86837b0217f",
   "metadata": {},
   "source": [
    "## Triggering multiple outputs\n",
    "\n",
    "This next cell triggers digital outputs 0, 1 and 7."
   ]
  },
  {
   "cell_type": "code",
   "execution_count": 3,
   "id": "4f5eb7d8-c05f-499d-8c51-c703f083b24a",
   "metadata": {},
   "outputs": [
    {
     "data": {
      "application/vnd.jupyter.widget-view+json": {
       "model_id": "",
       "version_major": 2,
       "version_minor": 0
      },
      "text/plain": [
       "HTML(value=\"<table style='width:100%'><tr><td> (0/1) </td><td>&#9992; -?-    </td><td>&#128336;  --:--:--   (e…"
      ]
     },
     "metadata": {},
     "output_type": "display_data"
    },
    {
     "data": {
      "application/vnd.jupyter.widget-view+json": {
       "model_id": "",
       "version_major": 2,
       "version_minor": 0
      },
      "text/plain": [
       "IntProgress(value=0, description='Averages', layout=Layout(width='95%'), max=1)"
      ]
     },
     "metadata": {},
     "output_type": "display_data"
    }
   ],
   "source": [
    "with QiJob() as multiple_outputs:\n",
    "    q = QiCells(1)\n",
    "    DigitalTrigger(q[0], 20e-9, [0, 1, 7])\n",
    "\n",
    "multiple_outputs.run(qic)"
   ]
  },
  {
   "cell_type": "markdown",
   "id": "5eb70f5a-93c0-4f61-a74d-240097c830f3",
   "metadata": {},
   "source": [
    "## Adding an output delay\n",
    "\n",
    "Intrinsic output delays cannot be added dynamically (or, in other words, inside a `QiJob`), but have to be configured prior to running a job.\n",
    "For dynamic delay, add a `Wait` command before issuing the `DigitalTrigger` command.\n",
    "\n",
    "The next cell configures digital output 1 to have a delay of 30 ns and digital output 0 without delay.\n",
    "Consequently, the signal at digital output 1 appears 20 ns later."
   ]
  },
  {
   "cell_type": "code",
   "execution_count": 4,
   "id": "35a14139-2cdf-416e-960c-23b87e743fc7",
   "metadata": {},
   "outputs": [
    {
     "data": {
      "application/vnd.jupyter.widget-view+json": {
       "model_id": "",
       "version_major": 2,
       "version_minor": 0
      },
      "text/plain": [
       "HTML(value=\"<table style='width:100%'><tr><td> (0/1) </td><td>&#9992; -?-    </td><td>&#128336;  --:--:--   (e…"
      ]
     },
     "metadata": {},
     "output_type": "display_data"
    },
    {
     "data": {
      "application/vnd.jupyter.widget-view+json": {
       "model_id": "",
       "version_major": 2,
       "version_minor": 0
      },
      "text/plain": [
       "IntProgress(value=0, description='Averages', layout=Layout(width='95%'), max=1)"
      ]
     },
     "metadata": {},
     "output_type": "display_data"
    }
   ],
   "source": [
    "with QiJob() as delay:\n",
    "    q = QiCells(1)\n",
    "    DigitalTrigger(q[0], 60e-9, [0, 1])\n",
    "\n",
    "qic.cell[0].digital_trigger.set_delay(0, 0e-9)\n",
    "qic.cell[0].digital_trigger.set_delay(1, 100e-9)\n",
    "delay.run(qic)"
   ]
  },
  {
   "cell_type": "markdown",
   "id": "c642d1f7-e9ef-4417-96cc-ce192685ea5b",
   "metadata": {},
   "source": [
    "## Triggering from multiple unit cells\n",
    "\n",
    "In the following `QiJob`, Cell 0 triggers output 0 for 10 ns and cell triggers output 1 for 20 ns.\n",
    "The otuputs start simultaneously."
   ]
  },
  {
   "cell_type": "code",
   "execution_count": 5,
   "id": "9906ac1c-dfbd-4ebb-81e0-a6930ca4f0e4",
   "metadata": {},
   "outputs": [
    {
     "data": {
      "application/vnd.jupyter.widget-view+json": {
       "model_id": "95358c85aa114509b8a13b249543e404",
       "version_major": 2,
       "version_minor": 0
      },
      "text/plain": [
       "HTML(value=\"<table style='width:100%'><tr><td> (0/1) </td><td>&#9992; -?-    </td><td>&#128336;  --:--:--   (e…"
      ]
     },
     "metadata": {},
     "output_type": "display_data"
    },
    {
     "data": {
      "application/vnd.jupyter.widget-view+json": {
       "model_id": "0acb4b083d524d22978936ec4943c01d",
       "version_major": 2,
       "version_minor": 0
      },
      "text/plain": [
       "IntProgress(value=0, description='Averages', layout=Layout(width='95%'), max=1)"
      ]
     },
     "metadata": {},
     "output_type": "display_data"
    }
   ],
   "source": [
    "with QiJob() as multiple_cells:\n",
    "    q = QiCells(2)\n",
    "    DigitalTrigger(q[0], 10e-9, [0])\n",
    "    DigitalTrigger(q[1], 20e-9, [1])\n",
    "\n",
    "multiple_cells.run(qic)"
   ]
  },
  {
   "cell_type": "markdown",
   "id": "018814ed-994d-487d-824c-9b18356baa15",
   "metadata": {},
   "source": [
    "# Raw hardware control\n",
    "\n",
    "Sometimes, for example for testing, debugging or to test experimental features, it might be helpful to see configuration options without the `DigitalTrigger` wrapper. For this purpose, the `qiclib.hardware.digital_trigger` module can be used."
   ]
  },
  {
   "cell_type": "code",
   "execution_count": 6,
   "id": "ef2bb49f-4026-4237-a283-e71778e3768a",
   "metadata": {},
   "outputs": [],
   "source": [
    "from qiclib.hardware.digital_trigger import OutputConfig, TriggerSet\n",
    "\n",
    "trig = qic.cell[0].digital_trigger\n",
    "\n",
    "# Setting the output level to 'active_high' is not yet supported\n",
    "# since this will not ork as intended when multiple cells have the active_high\n",
    "# mode, or there is a mix between cells that are active high and active low.\n",
    "# Setting this for one cell only and only using one cell will work, however\n",
    "config = OutputConfig(level=\"active_low\", delay=0.0)\n",
    "trig._set_output_config(0, config)\n",
    "trig.set_trigger_set(1, TriggerSet(duration=20e-9, outputs=[1], continuous=False))\n",
    "trig.trigger(1)"
   ]
  },
  {
   "cell_type": "code",
   "execution_count": null,
   "id": "2a54a915-d11f-4d03-a62c-5f418104ee77",
   "metadata": {},
   "outputs": [],
   "source": []
  }
 ],
 "metadata": {
  "kernelspec": {
   "display_name": "Python 3 (ipykernel)",
   "language": "python",
   "name": "python3"
  },
  "language_info": {
   "codemirror_mode": {
    "name": "ipython",
    "version": 3
   },
   "file_extension": ".py",
   "mimetype": "text/x-python",
   "name": "python",
   "nbconvert_exporter": "python",
   "pygments_lexer": "ipython3",
   "version": "3.10.12"
  }
 },
 "nbformat": 4,
 "nbformat_minor": 5
}
