{
 "cells": [
  {
   "cell_type": "markdown",
   "id": "60ece1c6",
   "metadata": {},
   "source": [
    "Qiskit is an open-source SDK for working with quantum computers at the level of circuits, algorithms, and application modules. It is a popular quantum programming framework mainly for consisting of advanced modules for applications in chemistry, optmization, finance and machine learning.\n",
    "\n",
    "At IPE, we developed a Qiskit provider that allows access to the QiController quantum system.\n",
    "\n",
    "This is a tutorial on how to run Qiskit circuits on the available QiController backends."
   ]
  },
  {
   "cell_type": "markdown",
   "id": "fe327352",
   "metadata": {},
   "source": [
    "### Installing"
   ]
  },
  {
   "cell_type": "markdown",
   "id": "f2092eab",
   "metadata": {},
   "source": [
    "Qiskit best supports Python 3.7 or later versions.\n",
    "To install the Qiskit package, which includes Terra, Aer, Ignis, and Aqua, and make it available globally using \"import qiskit\", type:"
   ]
  },
  {
   "cell_type": "markdown",
   "id": "78b66049",
   "metadata": {
    "scrolled": true
   },
   "source": [
    "`$ pip install qiskit`"
   ]
  },
  {
   "cell_type": "markdown",
   "id": "ef48f5af",
   "metadata": {},
   "source": [
    "### Getting started"
   ]
  },
  {
   "cell_type": "markdown",
   "id": "ff222a62",
   "metadata": {},
   "source": [
    "To ensure the demonstrations have the required Python modules and libraries, import the necessary modules for creating Qiskit circuits and running them on the QiController backend."
   ]
  },
  {
   "cell_type": "code",
   "execution_count": 1,
   "id": "33703321",
   "metadata": {},
   "outputs": [
    {
     "name": "stderr",
     "output_type": "stream",
     "text": [
      "/home/sbenrached/.local/lib/python3.6/site-packages/qiskit/__init__.py:66: DeprecationWarning: Using Qiskit with Python 3.6 is deprecated as of qiskit-terra 0.17.0. Support for running Qiskit with Python 3.6 will be removed in qiskit-terra 0.20.0.\n",
      "  DeprecationWarning,\n"
     ]
    }
   ],
   "source": [
    "from qiskit import QuantumCircuit, QuantumRegister, ClassicalRegister\n",
    "import matplotlib.pyplot as plt\n",
    "\n",
    "import qiclib as ql\n",
    "from qiclib.code import *\n",
    "\n",
    "from qiclib.packages.qiskit.QiController_backend import QiController_backend\n",
    "from qiclib.packages.qiskit.QiController_provider import QiController_provider"
   ]
  },
  {
   "cell_type": "markdown",
   "id": "abe38b6f",
   "metadata": {},
   "source": [
    "### Create a quantum circuit using Qiskit"
   ]
  },
  {
   "cell_type": "markdown",
   "id": "5d7141f0",
   "metadata": {},
   "source": [
    "We here present a simple circuit to create a Bell State using Qiskit:\n",
    "\n",
    "$$|\\Phi^+\\rangle = \\frac{1}{\\sqrt{2}} (|00\\rangle + |11\\rangle)$$ \n",
    "\n",
    "Each qubit in Qiskit is initialized to the $|0\\rangle$ state.\n",
    "To create the Bell state $|\\Phi^+\\rangle $, we apply a Hadamard gate to the first qubit and then apply a CNOT gate such that the first qubit is the control and the second is the target. We then measure the two qubits and the results will be stored in two classical bits."
   ]
  },
  {
   "cell_type": "code",
   "execution_count": 2,
   "id": "55cecf3a",
   "metadata": {
    "scrolled": false
   },
   "outputs": [
    {
     "data": {
      "text/plain": [
       "<qiskit.circuit.instructionset.InstructionSet at 0x7f36e8223fd0>"
      ]
     },
     "execution_count": 2,
     "metadata": {},
     "output_type": "execute_result"
    }
   ],
   "source": [
    "# Create a quantum circuit of 2 qubits and 2 classical bits\n",
    "q = QuantumRegister(2)\n",
    "c = ClassicalRegister(2)\n",
    "qc = QuantumCircuit(q,c)\n",
    "\n",
    "# Apply Hadamard gate on the first qubit\n",
    "qc.h(0)\n",
    "\n",
    "# Apply CNOT gate such that the first qubit is the control and the second is the target\n",
    "qc.cx(0,1)\n",
    "\n",
    "# Apply barrier to all qubits\n",
    "qc.barrier()\n",
    "\n",
    "# # Measure the 2 qubits and store results in corresponding classical bits\n",
    "qc.measure(0,0)\n",
    "qc.measure(1,1)"
   ]
  },
  {
   "cell_type": "markdown",
   "id": "94194b88",
   "metadata": {},
   "source": [
    "We can visualize our circuit using visualization tools from matplotlib module."
   ]
  },
  {
   "cell_type": "code",
   "execution_count": 3,
   "id": "0fdf1eed",
   "metadata": {},
   "outputs": [
    {
     "data": {
      "image/png": "[encoded data removed]",
      "text/plain": [
       "<Figure size 400.433x204.68 with 1 Axes>"
      ]
     },
     "execution_count": 3,
     "metadata": {},
     "output_type": "execute_result"
    }
   ],
   "source": [
    "qc.draw(output = 'mpl')"
   ]
  },
  {
   "cell_type": "markdown",
   "id": "7caf375e",
   "metadata": {},
   "source": [
    "### Define the QiController"
   ]
  },
  {
   "cell_type": "markdown",
   "id": "b5ebaac8",
   "metadata": {},
   "source": [
    "To execute the Qiskit circuit on the QiController backend, we first call the backend to use.\n",
    "The QiController needs to be powered and connected to the same network as the control computer. It can then be accessed via its IP address or host name. <br>\n",
    "In this tutorial, we will execute the above Qiskit circuit on the Slot3 platform available at the lab."
   ]
  },
  {
   "cell_type": "code",
   "execution_count": 4,
   "id": "3fa4bdda",
   "metadata": {
    "scrolled": true
   },
   "outputs": [
    {
     "name": "stdout",
     "output_type": "stream",
     "text": [
      "Platform driver version: v0.1.0 +595 (b2bf076d, 29.11.2021 15:02) <dirty>\n",
      "Establishing gRPC connection to slot3-platform:50058...\n",
      "Standard Qubit-Platform running on ZCU111 board\n",
      "QiController firmware built 2021-12-02 17:01:46 (rev. 714)\n",
      "Firmware with 3 digital unit cells detected.\n"
     ]
    }
   ],
   "source": [
    "qic = ql.QiController('slot3-platform')"
   ]
  },
  {
   "cell_type": "markdown",
   "id": "ef4bc4ff",
   "metadata": {},
   "source": [
    "### Define the coupling map for the 2-qubit gates used in circuit"
   ]
  },
  {
   "cell_type": "markdown",
   "id": "12868880",
   "metadata": {},
   "source": [
    "In order to couple 2 qubits and apply 2-qubit gates, such as CNOT and iSWAP gates, it is important to specify which 2 qubits are subject to the operation. This is what we refer to as \"coupling map\", and the qubit pairs should be passed in a list to the QiController provider."
   ]
  },
  {
   "cell_type": "code",
   "execution_count": 5,
   "id": "ae03b2f6",
   "metadata": {},
   "outputs": [],
   "source": [
    "# Add coupling map of qubits q0 and q1 (or q1 and q0) subject to the CNOT operation \n",
    "coupling_map = [[0,1]]"
   ]
  },
  {
   "cell_type": "markdown",
   "id": "4d7fd708",
   "metadata": {},
   "source": [
    "### Define sample"
   ]
  },
  {
   "cell_type": "markdown",
   "id": "3497c0b7",
   "metadata": {},
   "source": [
    "Before running experiments on the QiController backend, we need to configure it by setting physical properties for the experiment.<br>\n",
    "\n",
    "The sample consists of the same number of cells as the number of qubits given in the Qiskit circuit to execute, where each cell corresponds to a qubit and defines all its relevant properties. This can be pulse lengths, frequencies, but also other experiment-related parameters. An additional cell is used for coupling each pair of qubits subject to the 2-qubit gates in the circuit, and these cells also define the physical properties of the coupling signal such as its frequency and length.<br>\n",
    "\n",
    "Note that, generally, not all qubits in a quantum chip have the same physical properties, so each cell should be calibrated seperately."
   ]
  },
  {
   "cell_type": "code",
   "execution_count": 6,
   "id": "d0e0046e",
   "metadata": {},
   "outputs": [],
   "source": [
    "# Define the sample of 3 cells; 2 cells correspond the 2 qubits of the circuit, and the 3rd cell is used\n",
    "# for coupling q0 and q1\n",
    "sample = QiCells(3) \n",
    "\n",
    "# First cell corresponds to the first qubit of the circuit\n",
    "sample[0][\"rec_pulse\"] = 116e-9 # s readout pulse length\n",
    "sample[0][\"rec_length\"] = 100e-9 # s recording window size\n",
    "sample[0][\"rec_frequency\"] = 60e6 # Hz readout pulse frequency\n",
    "sample[0][\"manip_frequency\"] = 80e6 # Hz control pulse frequency\n",
    "sample[0][\"rec_offset\"] = 20e-9 # s electrical delay\n",
    "sample[0][\"pi\"] = 160e-9 # s Pi pulse duration\n",
    "sample[0][\"T1\"] = 2e-6 # s decoherence time\n",
    "sample[0][\"T2\"] = 3e-6 # s dephasing time\n",
    "\n",
    "# Second cell corresponds to the second qubit of the circuit\n",
    "sample[1][\"rec_pulse\"] = 116e-9 # s readout pulse length\n",
    "sample[1][\"rec_length\"] = 100e-9 # s recording window size\n",
    "sample[1][\"rec_frequency\"] = 90e6 # Hz readout pulse frequency\n",
    "sample[1][\"manip_frequency\"] = 80e6 # Hz control pulse frequency\n",
    "sample[1][\"rec_offset\"] = 20e-9 # s electrical delay\n",
    "sample[1][\"pi\"] = 160e-9 # s Pi pulse duration\n",
    "sample[1][\"T1\"] = 2e-6 # s decoherence time\n",
    "sample[1][\"T2\"] = 3e-6 # s dephasing \n",
    "\n",
    "# One additional cell to couple the two qubits q0 and q1, and apply the CNOT gate\n",
    "sample[2][\"gauss_on_pulse_length\"] = 24e-9 # s \n",
    "sample[2][\"rectangular_pulse_length\"] = 132e-9 # s \n",
    "sample[2][\"gauss_off_pulse_length\"] = 24e-9 # s \n",
    "sample[2][\"pulse_frequency\"] = 854e6 # Hz"
   ]
  },
  {
   "cell_type": "markdown",
   "id": "8e297d0d",
   "metadata": {},
   "source": [
    "### Amplitude calibration"
   ]
  },
  {
   "cell_type": "markdown",
   "id": "e841256a",
   "metadata": {},
   "source": [
    "We calibrate the electrical delay of the readout pulse through the experimental setup. <br>\n",
    "`qiclib` offers an automated scheme for this purpose, optimizing for the highest signal amplitude at the IF frequency. Manual calibration (see other methods inside `ql.init`) is also possible.\n",
    "This will perform multiple experiments on the QiController to determine the electrical delay and to record the final readout window. It will also plot the resulting data using matplotlib.\n",
    "The optimal delay will be stored as `rec_offset` inside the sample object so it can be used for the following experiments."
   ]
  },
  {
   "cell_type": "code",
   "execution_count": 7,
   "id": "c5683e65",
   "metadata": {},
   "outputs": [],
   "source": [
    "qic.cell[0].manipulation.amplitude_calibration = (0.5,0.5)\n",
    "qic.cell[1].manipulation.amplitude_calibration = (0.5,0.5)"
   ]
  },
  {
   "cell_type": "code",
   "execution_count": 8,
   "id": "c690b3a9",
   "metadata": {},
   "outputs": [
    {
     "data": {
      "image/png": "[encoded data removed]",
      "text/plain": [
       "<Figure size 432x288 with 1 Axes>"
      ]
     },
     "metadata": {
      "needs_background": "light"
     },
     "output_type": "display_data"
    },
    {
     "name": "stdout",
     "output_type": "stream",
     "text": [
      "Optimal offset: 292.0 ns\n",
      "Mirror sideband is 14.5 dB suppressed at recording input\n"
     ]
    },
    {
     "data": {
      "image/png": "[encoded data removed]",
      "text/plain": [
       "<Figure size 432x288 with 1 Axes>"
      ]
     },
     "metadata": {
      "needs_background": "light"
     },
     "output_type": "display_data"
    }
   ],
   "source": [
    "ql.init.calibrate_readout(qic, sample, averages=1000)"
   ]
  },
  {
   "cell_type": "markdown",
   "id": "2f78e4e7",
   "metadata": {},
   "source": [
    "### State calibration"
   ]
  },
  {
   "cell_type": "markdown",
   "id": "f9a22205",
   "metadata": {},
   "source": [
    "We have put the QiController into operation, the next step is to calibrate the states $|0\\rangle$ and $|1\\rangle$.<br>\n",
    "To do this, we perform single shot readouts to plot the clouds of the two states $|0\\rangle$ and $|1\\rangle$, and then distinguish between them with a seperation line. The cloud of single readout results above the line represents the $|0\\rangle$ states, and the shots below represent the $|1\\rangle$ states.<br>\n",
    "Each cell from the sample that corresponds to a qubit in the Qiskit circuit needs to be calibrated seperately."
   ]
  },
  {
   "cell_type": "code",
   "execution_count": 9,
   "id": "3bf350b1",
   "metadata": {},
   "outputs": [],
   "source": [
    "with QiJob() as job_test:\n",
    "    \n",
    "    q = QiCells(1)\n",
    "    \n",
    "    ql.jobs.Readout(q[0], \"result\")\n",
    "    \n",
    "job_test.run(qic, sample, averages=1000, data_collection=\"iqcloud\")"
   ]
  },
  {
   "cell_type": "code",
   "execution_count": 10,
   "id": "ac816aa0",
   "metadata": {},
   "outputs": [],
   "source": [
    "result = job_test.cells[0].data(\"result\")"
   ]
  },
  {
   "cell_type": "code",
   "execution_count": 11,
   "id": "3ef910e9",
   "metadata": {},
   "outputs": [
    {
     "data": {
      "text/plain": [
       "[<matplotlib.lines.Line2D at 0x7f3788708f60>]"
      ]
     },
     "execution_count": 11,
     "metadata": {},
     "output_type": "execute_result"
    },
    {
     "data": {
      "image/png": "[encoded data removed]",
      "text/plain": [
       "<Figure size 432x288 with 1 Axes>"
      ]
     },
     "metadata": {
      "needs_background": "light"
     },
     "output_type": "display_data"
    }
   ],
   "source": [
    "import matplotlib.pyplot as plt\n",
    "\n",
    "plt.plot(result[0][0], result[0][1], \"x\")"
   ]
  },
  {
   "cell_type": "code",
   "execution_count": 12,
   "id": "69d74d1c",
   "metadata": {},
   "outputs": [],
   "source": [
    "from qiclib.packages.utility import calculate_stater_config\n",
    "\n",
    "# Enter the coordinates of the seperation line to each cell of the sample seperately\n",
    "qic.cell[0].recording.state_config = calculate_stater_config(79, 4249, 82, 4249)\n",
    "qic.cell[1].recording.state_config = calculate_stater_config(79, 4249, 82, 4249)"
   ]
  },
  {
   "cell_type": "markdown",
   "id": "ffd80721",
   "metadata": {},
   "source": [
    "### Execute circuit on QiController backend"
   ]
  },
  {
   "cell_type": "markdown",
   "id": "d5577faf",
   "metadata": {},
   "source": [
    "Now that we have what's necessary to execute the circuit on the QiController backend, we call the QiController provider with the sample used, create a backend according to the provider parameters, then run our cicuit on the defined backend for a certain number of shots, and display the measuremet results in terms of counts. We can use the histogram visualization tool from Qiskit to display the probability distribition of quantum states. <br><br>\n",
    "If you are using gates that are not supported by the QiController backend (you can check the gates supported by running `backend.configuration().supported_gates`), you can transpile the circuit to the basis gates of the QiController backend.\n",
    "Read more about the Qiskit transpiler [here](./product/download.html)."
   ]
  },
  {
   "cell_type": "code",
   "execution_count": 13,
   "id": "e1300739",
   "metadata": {},
   "outputs": [],
   "source": [
    "# Call the QiController hardware provider with the specified sample\n",
    "provider = QiController_provider(qic, sample, coupling_map)"
   ]
  },
  {
   "cell_type": "code",
   "execution_count": 14,
   "id": "f5df279e",
   "metadata": {},
   "outputs": [],
   "source": [
    "# Create a backend based on the given hardware provider and the sample\n",
    "backend = QiController_backend(provider)"
   ]
  },
  {
   "cell_type": "code",
   "execution_count": 15,
   "id": "fb878300",
   "metadata": {},
   "outputs": [],
   "source": [
    "# Create a job by running the circuit on the backend for a number of shots and return the states\n",
    "job = backend.run(qc, 10, memory=True)"
   ]
  },
  {
   "cell_type": "code",
   "execution_count": 16,
   "id": "3c7650af",
   "metadata": {
    "scrolled": true
   },
   "outputs": [
    {
     "name": "stdout",
     "output_type": "stream",
     "text": [
      "['01', '01', '01', '01', '01', '01', '01', '01', '01', '01']\n"
     ]
    }
   ],
   "source": [
    "# Retrieve the measurement results in terms of list of states\n",
    "states = job.get_memory()\n",
    "print(states)"
   ]
  },
  {
   "cell_type": "code",
   "execution_count": 17,
   "id": "a4e90225",
   "metadata": {},
   "outputs": [
    {
     "name": "stdout",
     "output_type": "stream",
     "text": [
      "{'000': 0, '001': 10, '010': 0, '011': 0}\n"
     ]
    }
   ],
   "source": [
    "# Create a job by running the circuit on the backend for a number of shots and return the counts\n",
    "job = backend.run(qc, 10, memory=False)\n",
    "\n",
    "# Retrieve the measurement results in terms of list of counts\n",
    "counts = job.get_counts()\n",
    "print(counts)"
   ]
  },
  {
   "cell_type": "code",
   "execution_count": 18,
   "id": "d58e7862",
   "metadata": {
    "scrolled": true
   },
   "outputs": [
    {
     "data": {
      "image/png": "[encoded data removed]",
      "text/plain": [
       "<Figure size 504x360 with 1 Axes>"
      ]
     },
     "execution_count": 18,
     "metadata": {},
     "output_type": "execute_result"
    }
   ],
   "source": [
    "from qiskit.visualization import plot_histogram\n",
    "\n",
    "# Display the probability distribution of the quantum states\n",
    "plot_histogram(counts)"
   ]
  },
  {
   "cell_type": "markdown",
   "id": "e2a87572",
   "metadata": {},
   "source": [
    "We can access the backend configuration to learn more of the design of the backend:"
   ]
  },
  {
   "cell_type": "code",
   "execution_count": 19,
   "id": "68c2700f",
   "metadata": {
    "scrolled": true
   },
   "outputs": [
    {
     "name": "stdout",
     "output_type": "stream",
     "text": [
      "slot3-platform\n"
     ]
    }
   ],
   "source": [
    "# Access the backend configuration parameters. e.g: the backend name\n",
    "print(backend.configuration().backend_name)"
   ]
  },
  {
   "cell_type": "code",
   "execution_count": 20,
   "id": "b5adba27",
   "metadata": {},
   "outputs": [
    {
     "data": {
      "text/plain": [
       "[<QiController_backend('slot3-platform')>]"
      ]
     },
     "execution_count": 20,
     "metadata": {},
     "output_type": "execute_result"
    }
   ],
   "source": [
    "provider.backends"
   ]
  },
  {
   "cell_type": "code",
   "execution_count": null,
   "id": "18b9ead8",
   "metadata": {},
   "outputs": [],
   "source": []
  }
 ],
 "metadata": {
  "kernelspec": {
   "display_name": "Python 3",
   "language": "python",
   "name": "python3"
  },
  "language_info": {
   "codemirror_mode": {
    "name": "ipython",
    "version": 3
   },
   "file_extension": ".py",
   "mimetype": "text/x-python",
   "name": "python",
   "nbconvert_exporter": "python",
   "pygments_lexer": "ipython3",
   "version": "3.6.8"
  }
 },
 "nbformat": 4,
 "nbformat_minor": 5
}
