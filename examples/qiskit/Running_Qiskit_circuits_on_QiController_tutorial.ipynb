{
 "cells": [
  {
   "cell_type": "markdown",
   "id": "60ece1c6",
   "metadata": {},
   "source": [
    "Qiskit is an open-source SDK for working with quantum computers at the level of circuits, algorithms, and application modules. It is a popular quantum programming framework mainly for consisting of advanced modules for applications in chemistry, optmization, finance and machine learning.\n",
    "\n",
    "At IPE, we developed a Qiskit provider that allows access to the QiController quantum system.\n",
    "\n",
    "This is a tutorial on how to run Qiskit circuits on the available QiController backends."
   ]
  },
  {
   "cell_type": "markdown",
   "id": "fe327352",
   "metadata": {},
   "source": [
    "### Installing"
   ]
  },
  {
   "cell_type": "markdown",
   "id": "f2092eab",
   "metadata": {},
   "source": [
    "Qiskit best supports Python 3.7 or later versions.\n",
    "To install the Qiskit package, which includes Terra, Aer, Ignis, and Aqua, and make it available globally using \"import qiskit\", type:"
   ]
  },
  {
   "cell_type": "markdown",
   "id": "78b66049",
   "metadata": {},
   "source": [
    "`$ pip install qiskit`"
   ]
  },
  {
   "cell_type": "markdown",
   "id": "ef48f5af",
   "metadata": {},
   "source": [
    "### Getting started"
   ]
  },
  {
   "cell_type": "markdown",
   "id": "ff222a62",
   "metadata": {},
   "source": [
    "To ensure the demonstrations have the required Python modules and libraries, import the necessary modules for creating Qiskit circuits and running them on the QiController backend."
   ]
  },
  {
   "cell_type": "code",
   "execution_count": 1,
   "id": "33703321",
   "metadata": {},
   "outputs": [
    {
     "name": "stdout",
     "output_type": "stream",
     "text": [
      "QKIT configuration initialized -> available as qkit.cfg[...]\n"
     ]
    },
    {
     "name": "stderr",
     "output_type": "stream",
     "text": [
      "/home/lukas/Development/qup_client/src/qiclib/packages/qkit_polyfill.py:38: UserWarning: If you intend to use the QiController together with Qkit, do not forget to start it with qkit.start() before creating the QiController instance.\n",
      "  warnings.warn(\n"
     ]
    }
   ],
   "source": [
    "import matplotlib.pyplot as plt\n",
    "from qiskit import ClassicalRegister, QuantumCircuit, QuantumRegister\n",
    "\n",
    "import qiclib as ql\n",
    "from qiclib.code import *\n",
    "from qiclib.packages.qiskit.QiController_backend import QiController_backend\n",
    "from qiclib.packages.qiskit.QiController_provider import QiController_provider"
   ]
  },
  {
   "cell_type": "code",
   "execution_count": 2,
   "id": "3d2baaf5-0f64-4f9c-ab32-7f77814a0be3",
   "metadata": {},
   "outputs": [
    {
     "name": "stdout",
     "output_type": "stream",
     "text": [
      "[QiController] qiclib version: 1.0.0 +66 (d4cbf0e7, 18.09.2024 13:01) <dirty>\n",
      "[QiController] Establishing remote connection to slot3-platform...\n",
      "[QiController] Detected QiController running on ZCU111 board\n",
      "[QiController] Firmware build time: 13.09.2024 14:11:22 (Revision 779E92BA)\n",
      "[QiController] Firmware with 6 digital unit cells detected.\n"
     ]
    }
   ],
   "source": [
    "qic = ql.QiController(\"slot3-platform\")"
   ]
  },
  {
   "cell_type": "code",
   "execution_count": 3,
   "id": "e5e76a65-861c-4a1a-90c3-72ba3a6523d8",
   "metadata": {},
   "outputs": [
    {
     "name": "stdout",
     "output_type": "stream",
     "text": [
      "CircuitInstruction(operation=Instruction(name='h', num_qubits=1, num_clbits=0, params=[]), qubits=(Qubit(QuantumRegister(2, 'q0'), 0),), clbits=())\n",
      "0\n",
      "CircuitInstruction(operation=Instruction(name='cx', num_qubits=2, num_clbits=0, params=[]), qubits=(Qubit(QuantumRegister(2, 'q0'), 0), Qubit(QuantumRegister(2, 'q0'), 1)), clbits=())\n",
      "0 1\n",
      "CircuitInstruction(operation=Instruction(name='barrier', num_qubits=2, num_clbits=0, params=[]), qubits=(Qubit(QuantumRegister(2, 'q0'), 0), Qubit(QuantumRegister(2, 'q0'), 1)), clbits=())\n",
      "CircuitInstruction(operation=Instruction(name='measure', num_qubits=1, num_clbits=1, params=[]), qubits=(Qubit(QuantumRegister(2, 'q0'), 0),), clbits=(Clbit(ClassicalRegister(2, 'c0'), 0),))\n",
      "0\n",
      "CircuitInstruction(operation=Instruction(name='measure', num_qubits=1, num_clbits=1, params=[]), qubits=(Qubit(QuantumRegister(2, 'q0'), 1),), clbits=(Clbit(ClassicalRegister(2, 'c0'), 1),))\n",
      "1\n"
     ]
    }
   ],
   "source": [
    "# Define the sample of 3 cells; 2 cells correspond the 2 qubits of the circuit, and the 3rd cell is used\n",
    "# for coupling q0 and q1\n",
    "sample = QiSample(3)\n",
    "\n",
    "# First cell corresponds to the first qubit of the circuit\n",
    "sample[0][\"rec_pulse\"] = 116e-9  # s readout pulse length\n",
    "sample[0][\"rec_length\"] = 100e-9  # s recording window size\n",
    "sample[0][\"rec_frequency\"] = 60e6  # Hz readout pulse frequency\n",
    "sample[0][\"manip_frequency\"] = 80e6  # Hz control pulse frequency\n",
    "sample[0][\"rec_offset\"] = 20e-9  # s electrical delay\n",
    "sample[0][\"pi\"] = 160e-9  # s Pi pulse duration\n",
    "sample[0][\"T1\"] = 2e-6  # s decoherence time\n",
    "sample[0][\"T2\"] = 3e-6  # s dephasing time\n",
    "\n",
    "# Second cell corresponds to the second qubit of the circuit\n",
    "sample[1][\"rec_pulse\"] = 116e-9  # s readout pulse length\n",
    "sample[1][\"rec_length\"] = 100e-9  # s recording window size\n",
    "sample[1][\"rec_frequency\"] = 90e6  # Hz readout pulse frequency\n",
    "sample[1][\"manip_frequency\"] = 80e6  # Hz control pulse frequency\n",
    "sample[1][\"rec_offset\"] = 20e-9  # s electrical delay\n",
    "sample[1][\"pi\"] = 160e-9  # s Pi pulse duration\n",
    "sample[1][\"T1\"] = 2e-6  # s decoherence time\n",
    "sample[1][\"T2\"] = 3e-6  # s dephasing\n",
    "\n",
    "# One additional cell to couple the two qubits q0 and q1, and apply the CNOT gate\n",
    "sample[2][\"gauss_on_pulse_length\"] = 24e-9  # s\n",
    "sample[2][\"rectangular_pulse_length\"] = 132e-9  # s\n",
    "sample[2][\"gauss_off_pulse_length\"] = 24e-9  # s\n",
    "sample[2][\"pulse_frequency\"] = 854e6  # Hz\n",
    "\n",
    "coupling_map = [[0, 1]]\n",
    "\n",
    "# Create a quantum circuit of 2 qubits and 2 classical bits\n",
    "q = QuantumRegister(2)\n",
    "c = ClassicalRegister(2)\n",
    "qc = QuantumCircuit(q, c)\n",
    "\n",
    "# Apply Hadamard gate on the first qubit\n",
    "qc.h(0)\n",
    "\n",
    "# Apply CNOT gate such that the first qubit is the control and the second is the target\n",
    "qc.cx(0, 1)\n",
    "\n",
    "# Apply barrier to all qubits\n",
    "qc.barrier()\n",
    "\n",
    "# # Measure the 2 qubits and store results in corresponding classical bits\n",
    "qc.measure(0, 0)\n",
    "qc.measure(1, 1)\n",
    "\n",
    "provider = QiController_provider(qic, sample, coupling_map)\n",
    "backend = QiController_backend(provider)\n",
    "\n",
    "job = backend.circuit_to_qic(qc)"
   ]
  },
  {
   "cell_type": "code",
   "execution_count": 4,
   "id": "deb0db84-d5d9-4068-862f-6b422e874fc3",
   "metadata": {},
   "outputs": [
    {
     "name": "stdout",
     "output_type": "stream",
     "text": [
      "QiJob:\n",
      "    q = QiCells(3)\n",
      "    v0 =  QiVariable()\n",
      "    v1 =  QiVariable()\n",
      "    Play(q[0], QiPulse(q[0][\"pi\"], shape=Shape(gauss), amplitude=0.5, phase=1.5707963267948966, frequency=q[0][\"manip_frequency\"]))\n",
      "    Play(q[0], QiPulse(q[0][\"pi\"], shape=Shape(gauss), frequency=q[0][\"manip_frequency\"]))\n",
      "    Sync(q[0], q[1], q[2])\n",
      "    RotateFrame(q[0], -1.5707963267948966)\n",
      "    Play(q[1], QiPulse(q[1][\"pi\"], shape=Shape(gauss), amplitude=0.5, frequency=q[1][\"manip_frequency\"]))\n",
      "    RotateFrame(q[1], 1.5707963267948966)\n",
      "    Sync(q[0], q[1], q[2])\n",
      "    Sync(q[0], q[1], q[2])\n",
      "    Play(q[2], QiPulse(q[2][\"gauss_on_pulse_length\"], shape=Shape(gauss_up), frequency=q[2][\"pulse_frequency\"]))\n",
      "    Play(q[2], QiPulse(q[2][\"rectangular_pulse_length\"], frequency=q[2][\"pulse_frequency\"]))\n",
      "    Play(q[2], QiPulse(q[2][\"gauss_off_pulse_length\"], shape=Shape(gauss_down), frequency=q[2][\"pulse_frequency\"]))\n",
      "    Sync(q[0], q[1], q[2])\n",
      "    Play(q[0], QiPulse(q[0][\"pi\"], shape=Shape(gauss), amplitude=0.5, frequency=q[0][\"manip_frequency\"]))\n",
      "    Sync(q[0], q[1], q[2])\n",
      "    Sync(q[0], q[1], q[2])\n",
      "    Play(q[2], QiPulse(q[2][\"gauss_on_pulse_length\"], shape=Shape(gauss_up), frequency=q[2][\"pulse_frequency\"]))\n",
      "    Play(q[2], QiPulse(q[2][\"rectangular_pulse_length\"], frequency=q[2][\"pulse_frequency\"]))\n",
      "    Play(q[2], QiPulse(q[2][\"gauss_off_pulse_length\"], shape=Shape(gauss_down), frequency=q[2][\"pulse_frequency\"]))\n",
      "    Sync(q[0], q[1], q[2])\n",
      "    RotateFrame(q[1], 1.5707963267948966)\n",
      "    Sync(q[0], q[1])\n",
      "    PlayReadout(q[0], QiPulse(q[0][\"rec_pulse\"], frequency=q[0][\"rec_frequency\"]))\n",
      "    Recording(q[0], q[0][\"rec_length\"], offset=q[0][\"rec_offset\"], save_to=\"result\", state_to=v0)\n",
      "    PlayReadout(q[1], QiPulse(q[1][\"rec_pulse\"], frequency=q[1][\"rec_frequency\"]))\n",
      "    Recording(q[1], q[1][\"rec_length\"], offset=q[1][\"rec_offset\"], save_to=\"result\", state_to=v1)\n"
     ]
    }
   ],
   "source": [
    "print(job)"
   ]
  },
  {
   "cell_type": "code",
   "execution_count": 6,
   "id": "69d682ab-5ccf-40ac-b3a9-18fd593d5ee0",
   "metadata": {},
   "outputs": [
    {
     "name": "stdout",
     "output_type": "stream",
     "text": [
      "Print program for cell index 0\n",
      "0# Op: TRIGGER, mod0: 0x0, mod1: 0x0, mod2: 0x0, mod3: 0x0,  mod4: 0x0\n",
      "\n",
      "1# Op: TRIGGER, mod0: 0x0, mod1: 0x0, mod2: 0x1, mod3: 0x0,  mod4: 0x0\n",
      "\n",
      "2# Op: WAIT_IMM, dst: 0, immediate: 0x27\n",
      "\n",
      "3# Op: TRIGGER, mod0: 0x0, mod1: 0x0, mod2: 0x2, mod3: 0x0,  mod4: 0x0\n",
      "\n",
      "4# Op: WAIT_IMM, dst: 0, immediate: 0x27\n",
      "\n",
      "5# Op: TRIGGER, mod0: 0x0, mod1: 0x0, mod2: 0x3, mod3: 0x0,  mod4: 0x0\n",
      "\n",
      "6# Op: WAIT_IMM, dst: 0, immediate: 0x28\n",
      "\n",
      "7# Op: WAIT_IMM, dst: 0, immediate: 0x2d\n",
      "\n",
      "8# Op: TRIGGER, mod0: 0x0, mod1: 0x0, mod2: 0x4, mod3: 0x0,  mod4: 0x0\n",
      "\n",
      "9# Op: WAIT_IMM, dst: 0, immediate: 0x27\n",
      "\n",
      "10# Op: WAIT_IMM, dst: 0, immediate: 0x2d\n",
      "\n",
      "11# Op: WAIT_IMM, dst: 0, immediate: 0x1\n",
      "\n",
      "12# Op: TRIGGER, mod0: 0x1, mod1: 0x1, mod2: 0x0, mod3: 0x0,  mod4: 0x0\n",
      "\n",
      "13# Op: SYNCH, dst: 1, funct3: QUBIT_STATE, rs1: 0, immediate: 0x0 \n",
      "\n",
      "14# Op: SYNCH, funct3: START, rs1: 0, rs2: 0, immediate: 0x0\n",
      "\n"
     ]
    }
   ],
   "source": [
    "job.print_assembler(sample)"
   ]
  },
  {
   "cell_type": "markdown",
   "id": "abe38b6f",
   "metadata": {},
   "source": [
    "### Create a quantum circuit using Qiskit"
   ]
  },
  {
   "cell_type": "markdown",
   "id": "5d7141f0",
   "metadata": {},
   "source": [
    "We here present a simple circuit to create a Bell State using Qiskit:\n",
    "\n",
    "$$|\\Phi^+\\rangle = \\frac{1}{\\sqrt{2}} (|00\\rangle + |11\\rangle)$$ \n",
    "\n",
    "Each qubit in Qiskit is initialized to the $|0\\rangle$ state.\n",
    "To create the Bell state $|\\Phi^+\\rangle $, we apply a Hadamard gate to the first qubit and then apply a CNOT gate such that the first qubit is the control and the second is the target. We then measure the two qubits and the results will be stored in two classical bits."
   ]
  },
  {
   "cell_type": "code",
   "execution_count": 2,
   "id": "55cecf3a",
   "metadata": {},
   "outputs": [
    {
     "data": {
      "text/plain": [
       "<qiskit.circuit.instructionset.InstructionSet at 0x71a860049660>"
      ]
     },
     "execution_count": 2,
     "metadata": {},
     "output_type": "execute_result"
    }
   ],
   "source": [
    "# Create a quantum circuit of 2 qubits and 2 classical bits\n",
    "q = QuantumRegister(2)\n",
    "c = ClassicalRegister(2)\n",
    "qc = QuantumCircuit(q, c)\n",
    "\n",
    "# Apply Hadamard gate on the first qubit\n",
    "qc.h(0)\n",
    "\n",
    "# Apply CNOT gate such that the first qubit is the control and the second is the target\n",
    "qc.cx(0, 1)\n",
    "\n",
    "# Apply barrier to all qubits\n",
    "qc.barrier()\n",
    "\n",
    "# # Measure the 2 qubits and store results in corresponding classical bits\n",
    "qc.measure(0, 0)\n",
    "qc.measure(1, 1)"
   ]
  },
  {
   "cell_type": "markdown",
   "id": "94194b88",
   "metadata": {},
   "source": [
    "We can visualize our circuit using visualization tools from matplotlib module."
   ]
  },
  {
   "cell_type": "code",
   "execution_count": 3,
   "id": "0fdf1eed",
   "metadata": {},
   "outputs": [
    {
     "data": {
      "image/png": "[encoded data removed]",
      "text/plain": [
       "<Figure size 556.156x284.278 with 1 Axes>"
      ]
     },
     "execution_count": 3,
     "metadata": {},
     "output_type": "execute_result"
    }
   ],
   "source": [
    "qc.draw(output=\"mpl\")"
   ]
  },
  {
   "cell_type": "markdown",
   "id": "7caf375e",
   "metadata": {},
   "source": [
    "### Define the QiController"
   ]
  },
  {
   "cell_type": "markdown",
   "id": "b5ebaac8",
   "metadata": {},
   "source": [
    "To execute the Qiskit circuit on the QiController backend, we first call the backend to use.\n",
    "The QiController needs to be powered and connected to the same network as the control computer. It can then be accessed via its IP address or host name. <br>\n",
    "In this tutorial, we will execute the above Qiskit circuit on the Slot3 platform available at the lab."
   ]
  },
  {
   "cell_type": "code",
   "execution_count": 4,
   "id": "3fa4bdda",
   "metadata": {
    "scrolled": true
   },
   "outputs": [
    {
     "name": "stdout",
     "output_type": "stream",
     "text": [
      "[QiController] qiclib version: 1.0.0 +66 (d4cbf0e7, 18.09.2024 13:01) <dirty>\n",
      "[QiController] Establishing remote connection to slot3-platform...\n",
      "[QiController] Detected QiController running on ZCU111 board\n",
      "[QiController] Firmware build time: 13.09.2024 14:11:22 (Revision 779E92BA)\n",
      "[QiController] Firmware with 6 digital unit cells detected.\n"
     ]
    }
   ],
   "source": [
    "qic = ql.QiController(\"slot3-platform\")"
   ]
  },
  {
   "cell_type": "markdown",
   "id": "ef4bc4ff",
   "metadata": {},
   "source": [
    "### Define the coupling map for the 2-qubit gates used in circuit"
   ]
  },
  {
   "cell_type": "markdown",
   "id": "12868880",
   "metadata": {},
   "source": [
    "In order to couple 2 qubits and apply 2-qubit gates, such as CNOT and iSWAP gates, it is important to specify which 2 qubits are subject to the operation. This is what we refer to as \"coupling map\", and the qubit pairs should be passed in a list to the QiController provider."
   ]
  },
  {
   "cell_type": "code",
   "execution_count": 5,
   "id": "ae03b2f6",
   "metadata": {},
   "outputs": [],
   "source": [
    "# Add coupling map of qubits q0 and q1 (or q1 and q0) subject to the CNOT operation\n",
    "coupling_map = [[0, 1]]"
   ]
  },
  {
   "cell_type": "markdown",
   "id": "4d7fd708",
   "metadata": {},
   "source": [
    "### Define sample"
   ]
  },
  {
   "cell_type": "markdown",
   "id": "3497c0b7",
   "metadata": {},
   "source": [
    "Before running experiments on the QiController backend, we need to configure it by setting physical properties for the experiment.<br>\n",
    "\n",
    "The sample consists of the same number of cells as the number of qubits given in the Qiskit circuit to execute, where each cell corresponds to a qubit and defines all its relevant properties. This can be pulse lengths, frequencies, but also other experiment-related parameters. An additional cell is used for coupling each pair of qubits subject to the 2-qubit gates in the circuit, and these cells also define the physical properties of the coupling signal such as its frequency and length.<br>\n",
    "\n",
    "Note that, generally, not all qubits in a quantum chip have the same physical properties, so each cell should be calibrated seperately."
   ]
  },
  {
   "cell_type": "code",
   "execution_count": 6,
   "id": "d0e0046e",
   "metadata": {},
   "outputs": [],
   "source": [
    "# Define the sample of 3 cells; 2 cells correspond the 2 qubits of the circuit, and the 3rd cell is used\n",
    "# for coupling q0 and q1\n",
    "sample = QiSample(3)\n",
    "\n",
    "# First cell corresponds to the first qubit of the circuit\n",
    "sample[0][\"rec_pulse\"] = 116e-9  # s readout pulse length\n",
    "sample[0][\"rec_length\"] = 100e-9  # s recording window size\n",
    "sample[0][\"rec_frequency\"] = 60e6  # Hz readout pulse frequency\n",
    "sample[0][\"manip_frequency\"] = 80e6  # Hz control pulse frequency\n",
    "sample[0][\"rec_offset\"] = 20e-9  # s electrical delay\n",
    "sample[0][\"pi\"] = 160e-9  # s Pi pulse duration\n",
    "sample[0][\"T1\"] = 2e-6  # s decoherence time\n",
    "sample[0][\"T2\"] = 3e-6  # s dephasing time\n",
    "\n",
    "# Second cell corresponds to the second qubit of the circuit\n",
    "sample[1][\"rec_pulse\"] = 116e-9  # s readout pulse length\n",
    "sample[1][\"rec_length\"] = 100e-9  # s recording window size\n",
    "sample[1][\"rec_frequency\"] = 90e6  # Hz readout pulse frequency\n",
    "sample[1][\"manip_frequency\"] = 80e6  # Hz control pulse frequency\n",
    "sample[1][\"rec_offset\"] = 20e-9  # s electrical delay\n",
    "sample[1][\"pi\"] = 160e-9  # s Pi pulse duration\n",
    "sample[1][\"T1\"] = 2e-6  # s decoherence time\n",
    "sample[1][\"T2\"] = 3e-6  # s dephasing\n",
    "\n",
    "# One additional cell to couple the two qubits q0 and q1, and apply the CNOT gate\n",
    "sample[2][\"gauss_on_pulse_length\"] = 24e-9  # s\n",
    "sample[2][\"rectangular_pulse_length\"] = 132e-9  # s\n",
    "sample[2][\"gauss_off_pulse_length\"] = 24e-9  # s\n",
    "sample[2][\"pulse_frequency\"] = 854e6  # Hz"
   ]
  },
  {
   "cell_type": "markdown",
   "id": "8e297d0d",
   "metadata": {},
   "source": [
    "### Amplitude calibration"
   ]
  },
  {
   "cell_type": "markdown",
   "id": "e841256a",
   "metadata": {},
   "source": [
    "We calibrate the electrical delay of the readout pulse through the experimental setup. <br>\n",
    "`qiclib` offers an automated scheme for this purpose, optimizing for the highest signal amplitude at the IF frequency. Manual calibration (see other methods inside `ql.init`) is also possible.\n",
    "This will perform multiple experiments on the QiController to determine the electrical delay and to record the final readout window. It will also plot the resulting data using matplotlib.\n",
    "The optimal delay will be stored as `rec_offset` inside the sample object so it can be used for the following experiments."
   ]
  },
  {
   "cell_type": "code",
   "execution_count": 7,
   "id": "c5683e65",
   "metadata": {},
   "outputs": [],
   "source": [
    "qic.cell[0].manipulation.amplitude_calibration = (1, 1)\n",
    "qic.cell[1].manipulation.amplitude_calibration = (1, 1)"
   ]
  },
  {
   "cell_type": "code",
   "execution_count": 8,
   "id": "c690b3a9",
   "metadata": {},
   "outputs": [
    {
     "data": {
      "application/vnd.jupyter.widget-view+json": {
       "model_id": "",
       "version_major": 2,
       "version_minor": 0
      },
      "text/plain": [
       "HTML(value=\"<table style='width:100%'><tr><td> (0/1000) </td><td>&#9992; -?-    </td><td>&#128336;  --:--:--  …"
      ]
     },
     "metadata": {},
     "output_type": "display_data"
    },
    {
     "data": {
      "application/vnd.jupyter.widget-view+json": {
       "model_id": "",
       "version_major": 2,
       "version_minor": 0
      },
      "text/plain": [
       "IntProgress(value=0, description='Averages', layout=Layout(width='95%'), max=1000)"
      ]
     },
     "metadata": {},
     "output_type": "display_data"
    },
    {
     "data": {
      "image/png": "[encoded data removed]",
      "text/plain": [
       "<Figure size 640x480 with 1 Axes>"
      ]
     },
     "metadata": {},
     "output_type": "display_data"
    },
    {
     "name": "stdout",
     "output_type": "stream",
     "text": [
      "Optimal offset: 284.0 ns\n"
     ]
    },
    {
     "data": {
      "application/vnd.jupyter.widget-view+json": {
       "model_id": "",
       "version_major": 2,
       "version_minor": 0
      },
      "text/plain": [
       "HTML(value=\"<table style='width:100%'><tr><td> (0/1000) </td><td>&#9992; -?-    </td><td>&#128336;  --:--:--  …"
      ]
     },
     "metadata": {},
     "output_type": "display_data"
    },
    {
     "data": {
      "application/vnd.jupyter.widget-view+json": {
       "model_id": "",
       "version_major": 2,
       "version_minor": 0
      },
      "text/plain": [
       "IntProgress(value=0, description='Averages', layout=Layout(width='95%'), max=1000)"
      ]
     },
     "metadata": {},
     "output_type": "display_data"
    },
    {
     "name": "stdout",
     "output_type": "stream",
     "text": [
      "Mirror sideband is -13.8 dB suppressed at recording input\n"
     ]
    },
    {
     "name": "stderr",
     "output_type": "stream",
     "text": [
      "Mirror sideband is 13.85 dB stronger than the actual signal at the recording input. Are maybe I and Q components swapped at the mixer?"
     ]
    },
    {
     "data": {
      "application/vnd.jupyter.widget-view+json": {
       "model_id": "",
       "version_major": 2,
       "version_minor": 0
      },
      "text/plain": [
       "HTML(value=\"<table style='width:100%'><tr><td> (0/1000) </td><td>&#9992; -?-    </td><td>&#128336;  --:--:--  …"
      ]
     },
     "metadata": {},
     "output_type": "display_data"
    },
    {
     "data": {
      "application/vnd.jupyter.widget-view+json": {
       "model_id": "",
       "version_major": 2,
       "version_minor": 0
      },
      "text/plain": [
       "IntProgress(value=0, description='Averages', layout=Layout(width='95%'), max=1000)"
      ]
     },
     "metadata": {},
     "output_type": "display_data"
    },
    {
     "data": {
      "image/png": "[encoded data removed]",
      "text/plain": [
       "<Figure size 640x480 with 1 Axes>"
      ]
     },
     "metadata": {},
     "output_type": "display_data"
    }
   ],
   "source": [
    "ql.init.calibrate_readout(qic, sample, averages=1000)"
   ]
  },
  {
   "cell_type": "markdown",
   "id": "2f78e4e7",
   "metadata": {},
   "source": [
    "### State calibration"
   ]
  },
  {
   "cell_type": "markdown",
   "id": "f9a22205",
   "metadata": {},
   "source": [
    "We have put the QiController into operation, the next step is to calibrate the states $|0\\rangle$ and $|1\\rangle$.<br>\n",
    "To do this, we perform single shot readouts to plot the clouds of the two states $|0\\rangle$ and $|1\\rangle$, and then distinguish between them with a seperation line. The cloud of single readout results above the line represents the $|0\\rangle$ states, and the shots below represent the $|1\\rangle$ states.<br>\n",
    "Each cell from the sample that corresponds to a qubit in the Qiskit circuit needs to be calibrated seperately."
   ]
  },
  {
   "cell_type": "code",
   "execution_count": 9,
   "id": "3bf350b1",
   "metadata": {},
   "outputs": [
    {
     "data": {
      "application/vnd.jupyter.widget-view+json": {
       "model_id": "9a62eb325dac4824913d88bc258aa0bb",
       "version_major": 2,
       "version_minor": 0
      },
      "text/plain": [
       "HTML(value=\"<table style='width:100%'><tr><td> (0/1000) </td><td>&#9992; -?-    </td><td>&#128336;  --:--:--  …"
      ]
     },
     "metadata": {},
     "output_type": "display_data"
    },
    {
     "data": {
      "application/vnd.jupyter.widget-view+json": {
       "model_id": "d258947b3da84196a248b7f786ffdf29",
       "version_major": 2,
       "version_minor": 0
      },
      "text/plain": [
       "IntProgress(value=0, description='Averages', layout=Layout(width='95%'), max=1000)"
      ]
     },
     "metadata": {},
     "output_type": "display_data"
    }
   ],
   "source": [
    "with QiJob() as job_test:\n",
    "    q = QiCells(1)\n",
    "    ql.jobs.Readout(q[0], \"result\")\n",
    "\n",
    "job_test.run(qic, sample, averages=1000, data_collection=\"iqcloud\")"
   ]
  },
  {
   "cell_type": "code",
   "execution_count": 10,
   "id": "ac816aa0",
   "metadata": {},
   "outputs": [],
   "source": [
    "result = job_test.cells[0].data(\"result\")"
   ]
  },
  {
   "cell_type": "code",
   "execution_count": 11,
   "id": "3ef910e9",
   "metadata": {},
   "outputs": [
    {
     "data": {
      "text/plain": [
       "[<matplotlib.lines.Line2D at 0x71a83cb6a170>]"
      ]
     },
     "execution_count": 11,
     "metadata": {},
     "output_type": "execute_result"
    },
    {
     "data": {
      "image/png": "[encoded data removed]",
      "text/plain": [
       "<Figure size 640x480 with 1 Axes>"
      ]
     },
     "metadata": {},
     "output_type": "display_data"
    }
   ],
   "source": [
    "plt.plot(result[0][0], result[0][1], \"x\")"
   ]
  },
  {
   "cell_type": "code",
   "execution_count": 12,
   "id": "69d74d1c",
   "metadata": {},
   "outputs": [],
   "source": [
    "from qiclib.packages.utility import calculate_stater_config\n",
    "\n",
    "# Enter the coordinates of the seperation line to each cell of the sample seperately\n",
    "qic.cell[0].recording.state_config = calculate_stater_config(79, 4249, 82, 4249)\n",
    "qic.cell[1].recording.state_config = calculate_stater_config(79, 4249, 82, 4249)"
   ]
  },
  {
   "cell_type": "markdown",
   "id": "ffd80721",
   "metadata": {},
   "source": [
    "### Execute circuit on QiController backend"
   ]
  },
  {
   "cell_type": "markdown",
   "id": "d5577faf",
   "metadata": {},
   "source": [
    "Now that we have what's necessary to execute the circuit on the QiController backend, we call the QiController provider with the sample used, create a backend according to the provider parameters, then run our cicuit on the defined backend for a certain number of shots, and display the measuremet results in terms of counts. We can use the histogram visualization tool from Qiskit to display the probability distribition of quantum states. <br><br>\n",
    "If you are using gates that are not supported by the QiController backend (you can check the gates supported by running `backend.configuration().supported_gates`), you can transpile the circuit to the basis gates of the QiController backend.\n",
    "Read more about the Qiskit transpiler [here](./product/download.html)."
   ]
  },
  {
   "cell_type": "code",
   "execution_count": 13,
   "id": "e1300739",
   "metadata": {},
   "outputs": [],
   "source": [
    "# Call the QiController hardware provider with the specified sample\n",
    "provider = QiController_provider(qic, sample, coupling_map)"
   ]
  },
  {
   "cell_type": "code",
   "execution_count": 14,
   "id": "f5df279e",
   "metadata": {},
   "outputs": [],
   "source": [
    "# Create a backend based on the given hardware provider and the sample\n",
    "backend = QiController_backend(provider)"
   ]
  },
  {
   "cell_type": "code",
   "execution_count": 15,
   "id": "fb878300",
   "metadata": {},
   "outputs": [
    {
     "name": "stdout",
     "output_type": "stream",
     "text": [
      "CircuitInstruction(operation=Instruction(name='h', num_qubits=1, num_clbits=0, params=[]), qubits=(Qubit(QuantumRegister(2, 'q0'), 0),), clbits=())\n"
     ]
    },
    {
     "ename": "AttributeError",
     "evalue": "'Qubit' object has no attribute 'index'",
     "output_type": "error",
     "traceback": [
      "\u001b[0;31m---------------------------------------------------------------------------\u001b[0m",
      "\u001b[0;31mAttributeError\u001b[0m                            Traceback (most recent call last)",
      "Cell \u001b[0;32mIn[15], line 2\u001b[0m\n\u001b[1;32m      1\u001b[0m \u001b[38;5;66;03m# Create a job by running the circuit on the backend for a number of shots and return the states\u001b[39;00m\n\u001b[0;32m----> 2\u001b[0m job \u001b[38;5;241m=\u001b[39m \u001b[43mbackend\u001b[49m\u001b[38;5;241;43m.\u001b[39;49m\u001b[43mrun\u001b[49m\u001b[43m(\u001b[49m\u001b[43mqc\u001b[49m\u001b[43m,\u001b[49m\u001b[43m \u001b[49m\u001b[38;5;241;43m10\u001b[39;49m\u001b[43m,\u001b[49m\u001b[43m \u001b[49m\u001b[43mmemory\u001b[49m\u001b[38;5;241;43m=\u001b[39;49m\u001b[38;5;28;43;01mTrue\u001b[39;49;00m\u001b[43m)\u001b[49m\n",
      "File \u001b[0;32m~/Development/qup_client/src/qiclib/packages/qiskit/QiController_backend.py:420\u001b[0m, in \u001b[0;36mQiController_backend.run\u001b[0;34m(self, run_input, shots, memory)\u001b[0m\n\u001b[1;32m    417\u001b[0m     \u001b[38;5;28;01mraise\u001b[39;00m QiskitError(\u001b[38;5;124m\"\u001b[39m\u001b[38;5;124mPulse jobs are not accepted\u001b[39m\u001b[38;5;124m\"\u001b[39m)\n\u001b[1;32m    419\u001b[0m \u001b[38;5;28;01melse\u001b[39;00m:\n\u001b[0;32m--> 420\u001b[0m     job \u001b[38;5;241m=\u001b[39m \u001b[38;5;28;43mself\u001b[39;49m\u001b[38;5;241;43m.\u001b[39;49m\u001b[43mcircuit_to_qic\u001b[49m\u001b[43m(\u001b[49m\u001b[43mrun_input\u001b[49m\u001b[43m)\u001b[49m\n\u001b[1;32m    422\u001b[0m     \u001b[38;5;28;01mif\u001b[39;00m memory \u001b[38;5;129;01mis\u001b[39;00m \u001b[38;5;28;01mTrue\u001b[39;00m:\n\u001b[1;32m    423\u001b[0m         result \u001b[38;5;241m=\u001b[39m [\u001b[38;5;124m\"\u001b[39m\u001b[38;5;124m\"\u001b[39m] \u001b[38;5;241m*\u001b[39m shots\n",
      "File \u001b[0;32m~/Development/qup_client/src/qiclib/packages/qiskit/QiController_backend.py:313\u001b[0m, in \u001b[0;36mQiController_backend.circuit_to_qic\u001b[0;34m(self, circuit)\u001b[0m\n\u001b[1;32m    306\u001b[0m         QiGates\u001b[38;5;241m.\u001b[39mMeasure(\n\u001b[1;32m    307\u001b[0m             cells[gate[\u001b[38;5;241m1\u001b[39m][\u001b[38;5;241m0\u001b[39m]\u001b[38;5;241m.\u001b[39mindex],\n\u001b[1;32m    308\u001b[0m             state_to\u001b[38;5;241m=\u001b[39mstate[gate[\u001b[38;5;241m1\u001b[39m][\u001b[38;5;241m0\u001b[39m]\u001b[38;5;241m.\u001b[39mindex],\n\u001b[1;32m    309\u001b[0m         )\n\u001b[1;32m    311\u001b[0m     \u001b[38;5;28;01melse\u001b[39;00m:\n\u001b[1;32m    312\u001b[0m         qiskit_to_qicode[gate[\u001b[38;5;241m0\u001b[39m]\u001b[38;5;241m.\u001b[39mname](\n\u001b[0;32m--> 313\u001b[0m             cells[\u001b[43mgate\u001b[49m\u001b[43m[\u001b[49m\u001b[38;5;241;43m1\u001b[39;49m\u001b[43m]\u001b[49m\u001b[43m[\u001b[49m\u001b[38;5;241;43m0\u001b[39;49m\u001b[43m]\u001b[49m\u001b[38;5;241;43m.\u001b[39;49m\u001b[43mindex\u001b[49m], \u001b[38;5;241m*\u001b[39mgate[\u001b[38;5;241m0\u001b[39m]\u001b[38;5;241m.\u001b[39mparams\n\u001b[1;32m    314\u001b[0m         )\n\u001b[1;32m    316\u001b[0m \u001b[38;5;28;01melif\u001b[39;00m \u001b[38;5;28mlen\u001b[39m(gate[\u001b[38;5;241m1\u001b[39m]) \u001b[38;5;241m==\u001b[39m \u001b[38;5;241m2\u001b[39m:\n\u001b[1;32m    317\u001b[0m     \u001b[38;5;28;01mif\u001b[39;00m (\n\u001b[1;32m    318\u001b[0m         [gate[\u001b[38;5;241m1\u001b[39m][\u001b[38;5;241m0\u001b[39m]\u001b[38;5;241m.\u001b[39mindex, gate[\u001b[38;5;241m1\u001b[39m][\u001b[38;5;241m1\u001b[39m]\u001b[38;5;241m.\u001b[39mindex]\n\u001b[1;32m    319\u001b[0m         \u001b[38;5;129;01min\u001b[39;00m \u001b[38;5;28mself\u001b[39m\u001b[38;5;241m.\u001b[39mcoupling_map\n\u001b[0;32m   (...)\u001b[0m\n\u001b[1;32m    322\u001b[0m         \u001b[38;5;129;01min\u001b[39;00m \u001b[38;5;28mself\u001b[39m\u001b[38;5;241m.\u001b[39mcoupling_map\n\u001b[1;32m    323\u001b[0m     ):\n",
      "\u001b[0;31mAttributeError\u001b[0m: 'Qubit' object has no attribute 'index'"
     ]
    }
   ],
   "source": [
    "# Create a job by running the circuit on the backend for a number of shots and return the states\n",
    "job = backend.run(qc, 10, memory=True)"
   ]
  },
  {
   "cell_type": "code",
   "execution_count": 16,
   "id": "3c7650af",
   "metadata": {
    "scrolled": true,
    "tags": []
   },
   "outputs": [
    {
     "name": "stdout",
     "output_type": "stream",
     "text": [
      "['01', '01', '01', '01', '01', '01', '01', '01', '01', '01']\n"
     ]
    }
   ],
   "source": [
    "# Retrieve the measurement results in terms of list of states\n",
    "states = job.get_memory()\n",
    "print(states)"
   ]
  },
  {
   "cell_type": "code",
   "execution_count": 17,
   "id": "a4e90225",
   "metadata": {},
   "outputs": [
    {
     "name": "stdout",
     "output_type": "stream",
     "text": [
      "{'000': 0, '001': 10, '010': 0, '011': 0}\n"
     ]
    }
   ],
   "source": [
    "# Create a job by running the circuit on the backend for a number of shots and return the counts\n",
    "job = backend.run(qc, 10, memory=False)\n",
    "\n",
    "# Retrieve the measurement results in terms of list of counts\n",
    "counts = job.get_counts()\n",
    "print(counts)"
   ]
  },
  {
   "cell_type": "code",
   "execution_count": 18,
   "id": "d58e7862",
   "metadata": {
    "scrolled": true
   },
   "outputs": [
    {
     "data": {
      "image/png": "[encoded data removed]",
      "text/plain": [
       "<Figure size 504x360 with 1 Axes>"
      ]
     },
     "execution_count": 18,
     "metadata": {},
     "output_type": "execute_result"
    }
   ],
   "source": [
    "from qiskit.visualization import plot_histogram\n",
    "\n",
    "# Display the probability distribution of the quantum states\n",
    "plot_histogram(counts)"
   ]
  },
  {
   "cell_type": "markdown",
   "id": "e2a87572",
   "metadata": {},
   "source": [
    "We can access the backend configuration to learn more of the design of the backend:"
   ]
  },
  {
   "cell_type": "code",
   "execution_count": 19,
   "id": "68c2700f",
   "metadata": {
    "scrolled": true
   },
   "outputs": [
    {
     "name": "stdout",
     "output_type": "stream",
     "text": [
      "slot3-platform\n"
     ]
    }
   ],
   "source": [
    "# Access the backend configuration parameters. e.g: the backend name\n",
    "print(backend.configuration().backend_name)"
   ]
  },
  {
   "cell_type": "code",
   "execution_count": 20,
   "id": "b5adba27",
   "metadata": {},
   "outputs": [
    {
     "data": {
      "text/plain": [
       "[<QiController_backend('slot3-platform')>]"
      ]
     },
     "execution_count": 20,
     "metadata": {},
     "output_type": "execute_result"
    }
   ],
   "source": [
    "provider.backends"
   ]
  },
  {
   "cell_type": "code",
   "execution_count": null,
   "id": "18b9ead8",
   "metadata": {},
   "outputs": [],
   "source": []
  }
 ],
 "metadata": {
  "kernelspec": {
   "display_name": "Python 3 (ipykernel)",
   "language": "python",
   "name": "python3"
  },
  "language_info": {
   "codemirror_mode": {
    "name": "ipython",
    "version": 3
   },
   "file_extension": ".py",
   "mimetype": "text/x-python",
   "name": "python",
   "nbconvert_exporter": "python",
   "pygments_lexer": "ipython3",
   "version": "3.10.12"
  }
 },
 "nbformat": 4,
 "nbformat_minor": 5
}
