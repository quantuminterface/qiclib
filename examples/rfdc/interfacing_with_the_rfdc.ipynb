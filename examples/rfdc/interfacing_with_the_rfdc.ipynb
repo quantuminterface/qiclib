{
 "cells": [
  {
   "cell_type": "markdown",
   "id": "8d4264fe-0e1f-4da0-9be6-aef6de1e7d8d",
   "metadata": {},
   "source": [
    "# RFdc\n",
    "\n",
    "The RF Data Converter is the mechanism to convert digital data to analog data while performing operations in the digital domain.\n",
    "Besides high-speed ADCs and high-speed DACs, there are many additional capabilities, such as digital up-or down conversion, decimation and interpolation and digital filtering.\n",
    "This Notebook provides example usages for some common use-cases."
   ]
  },
  {
   "cell_type": "code",
   "execution_count": 0,
   "id": "c91678f9-5480-4e18-b8da-b2c61f447aee",
   "metadata": {},
   "outputs": [
    {
     "name": "stdout",
     "output_type": "stream",
     "text": [
      "[QiController] qiclib version: undetectable\n",
      "[QiController] Establishing remote connection to slot1-platform...\n",
      "[QiController] Detected QiController running on ZCU216 board\n",
      "[QiController] Firmware build time: 20.10.2023 15:21:58 (Revision 825FCA19)\n",
      "[QiController] Firmware with 6 digital unit cells detected.\n"
     ]
    }
   ],
   "source": [
    "import qiclib as ql\n",
    "\n",
    "platform = \"slot1-platform\"  # The Name or IP-address of your platform\n",
    "qic = ql.QiController(platform)"
   ]
  },
  {
   "cell_type": "markdown",
   "id": "61132c34-1911-40a3-9470-c95de7c96863",
   "metadata": {},
   "source": [
    "## Checking the status\n",
    "\n",
    "The DACs and ADCs are organized in tiles and blocks.\n",
    "In the ZCU216, there are four tiles in total and four blocks per tile.\n",
    "\n",
    "On the fontend board, the ADC tiles are labeled 224, 225, 226, 227 and correspond to tiles 0 to 3 respectively for usage in the `rfdc` component.\n",
    "Equivalently, the DAC tiles are labeled 228, 229, 230, 231 and correspond to tiles 0 to 3 for usage in the `rfdc` component.\n",
    "\n",
    "On the board, the label is given in the form `x_yyy`. `x` corresponds to the block, `yyy` to the tile-number.\n",
    "\n",
    "The following cell prints status information about each ADC and DAC."
   ]
  },
  {
   "cell_type": "code",
   "execution_count": 0,
   "id": "24a940f1-8c23-43de-a4df-1943c21169e9",
   "metadata": {},
   "outputs": [
    {
     "name": "stdout",
     "output_type": "stream",
     "text": [
      "ADC status\n",
      "  Tile 0:\n",
      "    block 0: fs=2 GHz, clocks enabled = True\n",
      "    block 1: fs=2 GHz, clocks enabled = True\n",
      "    block 2: fs=2 GHz, clocks enabled = True\n",
      "    block 3: fs=2 GHz, clocks enabled = True\n",
      "  Tile 1:\n",
      "    block 0: fs=2 GHz, clocks enabled = True\n",
      "    block 1: fs=2 GHz, clocks enabled = True\n",
      "    block 2: fs=2 GHz, clocks enabled = True\n",
      "    block 3: fs=2 GHz, clocks enabled = True\n",
      "  Tile 2:\n",
      "    block 0: fs=2 GHz, clocks enabled = True\n",
      "    block 1: fs=2 GHz, clocks enabled = True\n",
      "    block 2: fs=2 GHz, clocks enabled = True\n",
      "    block 3: fs=2 GHz, clocks enabled = True\n",
      "  Tile 3:\n",
      "    block 0: fs=2 GHz, clocks enabled = True\n",
      "    block 1: fs=2 GHz, clocks enabled = True\n",
      "    block 2: fs=2 GHz, clocks enabled = True\n",
      "    block 3: fs=2 GHz, clocks enabled = True\n",
      "\n",
      "DAC status\n",
      "  Tile 0\n",
      "    block 0: fs=4 GHz, clocks enabled = True\n",
      "    block 1: fs=4 GHz, clocks enabled = True\n",
      "    block 2: fs=4 GHz, clocks enabled = True\n",
      "    block 3: fs=4 GHz, clocks enabled = True\n",
      "  Tile 1\n",
      "    block 0: fs=4 GHz, clocks enabled = True\n",
      "    block 1: fs=4 GHz, clocks enabled = True\n",
      "    block 2: fs=4 GHz, clocks enabled = True\n",
      "    block 3: fs=4 GHz, clocks enabled = True\n",
      "  Tile 2\n",
      "    block 0: fs=4 GHz, clocks enabled = True\n",
      "    block 1: fs=4 GHz, clocks enabled = True\n",
      "    block 2: fs=4 GHz, clocks enabled = True\n",
      "    block 3: fs=4 GHz, clocks enabled = True\n",
      "  Tile 3\n",
      "    block 0: fs=4 GHz, clocks enabled = True\n",
      "    block 1: fs=4 GHz, clocks enabled = True\n",
      "    block 2: fs=4 GHz, clocks enabled = True\n",
      "    block 3: fs=4 GHz, clocks enabled = True\n"
     ]
    }
   ],
   "source": [
    "print(\"ADC status\")\n",
    "for tile in range(4):\n",
    "    print(f\"  Tile {tile}:\")\n",
    "    for block in range(4):\n",
    "        status = qic.rfdc.adc(0, 0).status\n",
    "        print(\n",
    "            f\"    block {block}: fs={status.sampling_frequency} GHz, clocks enabled = {status.data_path_clocks_enabled}\"\n",
    "        )\n",
    "\n",
    "print()\n",
    "print(\"DAC status\")\n",
    "for tile in range(4):\n",
    "    print(f\"  Tile {tile}\")\n",
    "    for block in range(4):\n",
    "        status = qic.rfdc.dac(0, 0).status\n",
    "        print(\n",
    "            f\"    block {block}: fs={status.sampling_frequency} GHz, clocks enabled = {status.data_path_clocks_enabled}\"\n",
    "        )"
   ]
  },
  {
   "cell_type": "markdown",
   "id": "f2fe7315-440b-4672-a29c-92e301899f65",
   "metadata": {},
   "source": [
    "## Getting and adapting the mixer frequency\n",
    "\n",
    "The RFdc comes with a mixer that is steered with a 48-bit NCO. The frequency of this NCO can be adjusted in the range of `-fs/2` to `+fs/2`.\n",
    "\n",
    "For this, the DAC at tile/block index 0/2 (i.e. 2_228 on the board) is observed. Initially, its frequency is zero"
   ]
  },
  {
   "cell_type": "code",
   "execution_count": 0,
   "id": "65b43f01-0102-4ecb-be91-0a7cdd84d31d",
   "metadata": {},
   "outputs": [
    {
     "data": {
      "text/plain": [
       "0.0"
      ]
     },
     "execution_count": 0,
     "metadata": {},
     "output_type": "execute_result"
    }
   ],
   "source": [
    "qic.rfdc.dac(0, 2).mixer_frequency"
   ]
  },
  {
   "cell_type": "markdown",
   "id": "9fdea000-e384-41f6-ba72-d6196f07a5ea",
   "metadata": {},
   "source": [
    "The frequency can be changed using the `set_mixer_frequency` method. It expects the type of the converter (either \"dac\" or \"adc\") and the tile / block configuration as well as the frequency in Hz"
   ]
  },
  {
   "cell_type": "code",
   "execution_count": 0,
   "id": "1da95099-50b6-4599-bf44-f9526b2628c8",
   "metadata": {},
   "outputs": [],
   "source": [
    "qic.rfdc.dac(0, 2).mixer_frequency = 500e6"
   ]
  },
  {
   "cell_type": "markdown",
   "id": "9210f3b6-59bb-4aab-8f23-aa182a31ec53",
   "metadata": {},
   "source": [
    "Finally, we obtain the changed frequency. Due to numerical inaccuracies, this frequency might different than the frequency that was set."
   ]
  },
  {
   "cell_type": "code",
   "execution_count": 0,
   "id": "b5c1faec-5843-412e-9bf3-f7426ecfd6a3",
   "metadata": {},
   "outputs": [
    {
     "data": {
      "text/plain": [
       "500000000.0"
      ]
     },
     "execution_count": 0,
     "metadata": {},
     "output_type": "execute_result"
    }
   ],
   "source": [
    "qic.rfdc.dac(0, 2).mixer_frequency"
   ]
  },
  {
   "cell_type": "markdown",
   "id": "14fb26a1-d395-48ee-aa8e-f9342cd8d26a",
   "metadata": {},
   "source": [
    "Using a simple `QiJob`, we can verify that the frequency was set.\n",
    "The DAC at tile 0, block 2 is connected to the readout output of the Digital Unit Cell with index 0.\n",
    "\n",
    "The purpose of the `QiJob` is to play a continuous wave. The length that is passed to the `QiPulse` is normally a floating-point value describing the duration in seconds. The special string \"cw\", however, enables playing out a continuous wave.\n",
    "Running the same program with `length=\"off\"` disables the wave.\n",
    "\n",
    "The frequency that is passed to the `QiPulse` is that of a secondary, internal NCO. This NCO is used for fast frequency sweeps, however the bandwidth is limited to 1 GHz (i.e. -500 MHz to 500 MHz).\n",
    "\n",
    "The output can be connected to a spectrum analyzer or an oscilloscope where a continuous sine-wave with a frequency of 500 MHz can be observed."
   ]
  },
  {
   "cell_type": "code",
   "execution_count": 0,
   "id": "1fbe60fa-86ab-4b82-9077-0f8c05b57635",
   "metadata": {},
   "outputs": [],
   "source": [
    "from qiclib.code import *\n",
    "\n",
    "with QiJob() as job:\n",
    "    q = QiCells(1)\n",
    "    PlayReadout(q[0], QiPulse(length=\"cw\", frequency=0))"
   ]
  },
  {
   "cell_type": "code",
   "execution_count": 0,
   "id": "694c5426-fe2d-4197-a2ce-00d036df84cc",
   "metadata": {},
   "outputs": [
    {
     "data": {
      "application/vnd.jupyter.widget-view+json": {
       "model_id": "eb5dbff68f6842879119eabc6d732a80",
       "version_major": 2,
       "version_minor": 0
      },
      "text/plain": [
       "HTML(value=\"<table style='width:100%'><tr><td> (0/1) </td><td>&#9992; -?-    </td><td>&#128336;  --:--:--   (e…"
      ]
     },
     "metadata": {},
     "output_type": "display_data"
    },
    {
     "data": {
      "application/vnd.jupyter.widget-view+json": {
       "model_id": "aa55a127767a475e836c6f6b79effa59",
       "version_major": 2,
       "version_minor": 0
      },
      "text/plain": [
       "IntProgress(value=0, description='Averages', layout=Layout(width='95%'), max=1)"
      ]
     },
     "metadata": {},
     "output_type": "display_data"
    }
   ],
   "source": [
    "job.run(qic)"
   ]
  }
 ],
 "metadata": {
  "kernelspec": {
   "display_name": ".venv",
   "language": "python",
   "name": "python3"
  },
  "language_info": {
   "codemirror_mode": {
    "name": "ipython",
    "version": 3
   },
   "file_extension": ".py",
   "mimetype": "text/x-python",
   "name": "python",
   "nbconvert_exporter": "python",
   "pygments_lexer": "ipython3",
   "version": "3.9.20"
  }
 },
 "nbformat": 4,
 "nbformat_minor": 5
}
