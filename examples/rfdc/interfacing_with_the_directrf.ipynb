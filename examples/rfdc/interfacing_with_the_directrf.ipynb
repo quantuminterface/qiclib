{
 "cells": [
  {
   "cell_type": "markdown",
   "metadata": {},
   "source": [
    "# Interfacing with the directRF addon board\n",
    "\n",
    "The directrf is an addon board to the ZCU216 to convert the raw ADC and DAC signals into a format suitable for qubit instrumentation.\n",
    "For this purpose, the addon board contains analog filters, BalUns and can switch between different nyquist zones."
   ]
  },
  {
   "cell_type": "code",
   "execution_count": 1,
   "metadata": {},
   "outputs": [
    {
     "name": "stdout",
     "output_type": "stream",
     "text": [
      "[QiController] qiclib version: 1.0.0 +29 (ea3f939c, 15.05.2024 17:06) <dirty>\n",
      "[QiController] Establishing remote connection to 192.168.99.206...\n",
      "[QiController] Detected QiController running on ZCU216 board\n",
      "[QiController] Firmware build time: 13.05.2024 09:46:23 (Revision CA4FAB10)\n",
      "[QiController] Firmware with 6 digital unit cells detected.\n"
     ]
    }
   ],
   "source": [
    "import qiclib as ql\n",
    "from qiclib.code import *\n",
    "\n",
    "ip = \"192.168.99.206\"\n",
    "\n",
    "qic = ql.QiController(ip)"
   ]
  },
  {
   "cell_type": "markdown",
   "metadata": {},
   "source": [
    "## APIs in qiclib\n",
    "\n",
    "`qiclib` provides two APIs to interface with the board:\n",
    "- The `qiclib.hardware.direct_rf` provides abstractions for the entire RFdc + frontend board chain. This is the easiest and also preferred way of interfacing with the directRF.\n",
    "- The `qiclib.hardware.direct_rf_addon` provides low-level control and enables manually setting the different configuration options. This can be used together with the `qiclib.hardware.rfdc` module to mimic the methods provided by the `direct_rf` API.\n",
    "\n",
    "Whenever possible, the former method should be used. Wrong manual usage may reduce the lifespan of the analog board for certain configurations."
   ]
  },
  {
   "cell_type": "code",
   "execution_count": 2,
   "metadata": {},
   "outputs": [],
   "source": [
    "# Using the direct_rf API to set a frequency of 1 GHz at the the output\n",
    "qic.output_channels[0].frequency = 1.0e9\n",
    "\n",
    "# using the direct_rf_addon API together with the rfdc API to set the mixer frequency and nyquist zone.\n",
    "qic.direct_rf_board.dac(0).nyquist = 1\n",
    "qic.rfdc.dac(3, 3).mixer_frequency = 1.0e9"
   ]
  },
  {
   "cell_type": "markdown",
   "metadata": {},
   "source": [
    "The `direct_rf` serves as a wrapper around the `direct_rf_addon` and `rfdc` modules. All methods applied to the channel will be reflected by the respecive addon and RFdc APIs.\n",
    "Convenience methods exist to get the ADC or DAC resp. the addon channel for a given `direct_rf` channel"
   ]
  },
  {
   "cell_type": "code",
   "execution_count": 3,
   "metadata": {},
   "outputs": [
    {
     "name": "stdout",
     "output_type": "stream",
     "text": [
      "DAC frequency at channel 0: 0.5GHz\n",
      "ADC frequency at channel 1: 5.5GHz\n"
     ]
    }
   ],
   "source": [
    "qic.output_channels[0].frequency = 500e6\n",
    "qic.input_channels[1].frequency = 5.5e9\n",
    "\n",
    "print(\n",
    "    f\"DAC frequency at channel 0: {qic.output_channels[0].rf_dac.mixer_frequency/1e9:.1f}GHz\"\n",
    ")\n",
    "print(\n",
    "    f\"ADC frequency at channel 1: {qic.input_channels[1].rf_adc.mixer_frequency/1e9:.1f}GHz\"\n",
    ")"
   ]
  },
  {
   "cell_type": "code",
   "execution_count": null,
   "metadata": {},
   "outputs": [],
   "source": []
  }
 ],
 "metadata": {
  "kernelspec": {
   "display_name": "venv",
   "language": "python",
   "name": "python3"
  },
  "language_info": {
   "codemirror_mode": {
    "name": "ipython",
    "version": 3
   },
   "file_extension": ".py",
   "mimetype": "text/x-python",
   "name": "python",
   "nbconvert_exporter": "python",
   "pygments_lexer": "ipython3",
   "version": "3.6.15"
  }
 },
 "nbformat": 4,
 "nbformat_minor": 2
}
