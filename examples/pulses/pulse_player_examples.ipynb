{
 "cells": [
  {
   "cell_type": "markdown",
   "id": "4e56935b-9d34-4cca-87a8-1b6123eeda8d",
   "metadata": {},
   "source": [
    "# Pulse Player Module\n",
    "\n",
    "The pulse player is a simple module that plays analog pulses at the analog outputs.\n",
    "Compared to the signal generator inside the Digital Unit Cells, the pulse player contains no additional digital upconversion but has storage for significantly longer pulses."
   ]
  },
  {
   "cell_type": "code",
   "execution_count": null,
   "id": "97c8c994-1f3f-4867-a67e-b43b7b61898d",
   "metadata": {},
   "outputs": [],
   "source": [
    "import qiclib as ql\n",
    "from qiclib.code import *\n",
    "\n",
    "ip = \"slot6-platform\"\n",
    "\n",
    "qic = ql.QiController(ip)\n",
    "\n",
    "print(f\"{len(qic.pulse_players)} pulse player(s) available\")"
   ]
  },
  {
   "cell_type": "code",
   "execution_count": null,
   "id": "5592b02d-b1f8-499d-9c5c-666561052744",
   "metadata": {},
   "outputs": [],
   "source": [
    "sample = QiSample(2)\n",
    "for i in range(2):\n",
    "    sample[i][\"pi\"] = 20e-9\n",
    "    sample[i][\"manip_frequency\"] = 123e6\n",
    "\n",
    "with QiJob() as flux_pulse:\n",
    "    q = QiCells(1)\n",
    "    c = QiCouplers(1)\n",
    "    PlayFlux(c[0], QiPulse(length=4e-6, shape=ShapeLib.gauss))\n",
    "\n",
    "flux_pulse.run(qic)"
   ]
  },
  {
   "cell_type": "markdown",
   "id": "9a13040f-9cad-4d52-9d56-0d11dd29f4a8",
   "metadata": {},
   "source": [
    "# Manual operation\n",
    "\n",
    "For testing purposes, to change pulses in between experiments, or for other tasks where QiCode is not applicable, the hardware API can be used to update pulses on the platform manually.\n",
    "\n",
    "The pulse players are accessible using the `pulse_players` property of the `QiController`.\n",
    "\n",
    "Note that the actual count of usable pulses is one less than the count reported by `PulsePlayer.pulse_capactiy`. That is because there always is one implicit pulse with length zero."
   ]
  },
  {
   "cell_type": "code",
   "execution_count": null,
   "id": "5280cb61-333f-4544-bdad-42424bc43758",
   "metadata": {},
   "outputs": [],
   "source": [
    "pp = qic.pulse_players[0]\n",
    "\n",
    "print(f\"The Pulse Player can hold up to {pp.pulse_capacity} pulses\")"
   ]
  },
  {
   "cell_type": "markdown",
   "id": "e750a3f7-e1ea-46ef-9f59-1035b5430b6f",
   "metadata": {},
   "source": [
    "## Pulse access\n",
    "\n",
    "Pulses are accessed using the `pulses` property of the `PulsePlayer`. You can assign most iterable, numeric values to the `pulses` property and also use more advanced assignments like slices or multiple indices.\n",
    "Note that all set and get accesses communicate with the QiController.\n",
    "Pulses obtained are always numpy arrays. Quantizing happens inside the `QiController`, pulses are expected to be within the (-1, 1) range."
   ]
  },
  {
   "cell_type": "code",
   "execution_count": null,
   "id": "fd665d0e-8127-44f9-adc5-f837ff797e91",
   "metadata": {},
   "outputs": [],
   "source": [
    "print(pp.pulses[:])"
   ]
  },
  {
   "cell_type": "code",
   "execution_count": null,
   "id": "7de9ff9b-6fed-410d-9d86-ed1c75ab3f82",
   "metadata": {},
   "outputs": [],
   "source": [
    "import matplotlib.pyplot as plt\n",
    "import numpy as np\n",
    "from scipy import signal\n",
    "\n",
    "# Note that the following code will both send a gaussian pulse to the platform\n",
    "# and also receive the same pulse from the platform for plotting purposes.\n",
    "# This can, for example, be used to verify that the pulse is quantized back as expected.\n",
    "t = np.arange(-200e-9, 200e-9, 0.5e-9)\n",
    "pp.pulses[1] = signal.gausspulse(t, fc=10e6)\n",
    "\n",
    "plt.plot(t * 1e9, pp.pulses[1])\n",
    "plt.xlabel(\"Time [ns]\")\n",
    "plt.ylabel(\"Normalized Amplitude\")\n",
    "plt.show()"
   ]
  },
  {
   "cell_type": "markdown",
   "id": "41171e4e-e404-4168-adfd-592ca59b62f8",
   "metadata": {},
   "source": [
    "## Manual Triggering\n",
    "\n",
    "Using this model, pulses must be triggered manually. Specify the pulse index and use the `PulsePlayer.trigger` method to play a pulse"
   ]
  },
  {
   "cell_type": "code",
   "execution_count": null,
   "id": "cf3cab3d-ed4b-45ef-bc17-00da9ed36ec3",
   "metadata": {},
   "outputs": [],
   "source": [
    "pp.trigger(1)"
   ]
  },
  {
   "cell_type": "markdown",
   "id": "a0f54f90-b288-496d-8326-d0e191b756e0",
   "metadata": {},
   "source": [
    "## Limitations\n",
    "\n",
    "If you try to store a pulse that is too large, you will receive an error message. Note that this also applies when you store a pulse that would (on its own) fit into the available memory, but doesn't fit because there are other pulses that already take up space."
   ]
  },
  {
   "cell_type": "code",
   "execution_count": null,
   "id": "5a9733e2-de27-4fe6-a6da-bde33f3539eb",
   "metadata": {},
   "outputs": [],
   "source": [
    "pp.pulses[1] = [1] * 10_000"
   ]
  },
  {
   "cell_type": "code",
   "execution_count": null,
   "id": "9f493654-b8ee-4e54-a8af-a2abb222c858",
   "metadata": {},
   "outputs": [],
   "source": []
  }
 ],
 "metadata": {
  "kernelspec": {
   "display_name": "Python 3 (ipykernel)",
   "language": "python",
   "name": "python3"
  },
  "language_info": {
   "codemirror_mode": {
    "name": "ipython",
    "version": 3
   },
   "file_extension": ".py",
   "mimetype": "text/x-python",
   "name": "python",
   "nbconvert_exporter": "python",
   "pygments_lexer": "ipython3",
   "version": "3.10.12"
  }
 },
 "nbformat": 4,
 "nbformat_minor": 5
}
