{
 "cells": [
  {
   "cell_type": "code",
   "execution_count": 1,
   "metadata": {},
   "outputs": [
    {
     "name": "stdout",
     "output_type": "stream",
     "text": [
      "QKIT configuration initialized -> available as qkit.cfg[...]\n"
     ]
    },
    {
     "name": "stderr",
     "output_type": "stream",
     "text": [
      "INFO:root: ---------- LOGGING STARTED ---------- \n",
      "INFO:root:Set instruments dir to /home/rgebauer/phd/projects/qkit/qkit/drivers\n",
      "INFO:root:qkit.core.s_init.S14_setup_directories : \"None\" is not a valid path for user_instruments_dir, setting to None\n",
      "INFO:root:Not checking for updates.\n"
     ]
    },
    {
     "name": "stdout",
     "output_type": "stream",
     "text": [
      "Starting QKIT framework ... -> qkit.core.startup\n",
      "Loading module ... S10_logging.py\n",
      "Loading module ... S14_setup_directories.py\n",
      "Loading module ... S16_available_modules.py\n",
      "Loading module ... S20_check_for_updates.py\n",
      "Loading module ... S25_info_service.py\n",
      "Loading module ... S30_qkit_start.py\n",
      "Loading module ... S65_load_RI_service.py\n",
      "Loading module ... S70_load_visa.py\n",
      "Loading module ... S80_load_file_service.py\n"
     ]
    },
    {
     "name": "stderr",
     "output_type": "stream",
     "text": [
      "INFO:root:loading service: file info database (fid)\n"
     ]
    },
    {
     "name": "stdout",
     "output_type": "stream",
     "text": [
      "Loading module ... S85_init_measurement.py\n"
     ]
    },
    {
     "data": {
      "application/vnd.jupyter.widget-view+json": {
       "model_id": "4d5b267e898844c9974961a0326bdfc0",
       "version_major": 2,
       "version_minor": 0
      },
      "text/plain": [
       "HBox(children=(Text(value='test', description='Please check: Run ID', placeholder='***RUN_ID IS EMPTY***', sty…"
      ]
     },
     "metadata": {},
     "output_type": "display_data"
    },
    {
     "name": "stdout",
     "output_type": "stream",
     "text": [
      "Loading module ... S98_started.py\n",
      "Loading module ... S99_init_user.py\n"
     ]
    }
   ],
   "source": [
    "import numpy as np\n",
    "import qiclib as ql\n",
    "import matplotlib.pyplot as plt\n",
    "\n",
    "if ql.packages.qkit_polyfill.QKIT_ENABLED:\n",
    "    import qkit\n",
    "    qkit.cfg['user'] = 'Test'\n",
    "    qkit.cfg['run_id'] = 'test'\n",
    "    qkit.start()"
   ]
  },
  {
   "cell_type": "code",
   "execution_count": 2,
   "metadata": {},
   "outputs": [],
   "source": [
    "from qiclib.code import *"
   ]
  },
  {
   "cell_type": "code",
   "execution_count": 3,
   "metadata": {
    "scrolled": true
   },
   "outputs": [
    {
     "name": "stdout",
     "output_type": "stream",
     "text": [
      "Platform driver version: v0.1.0 +558 (cac06f3d, 29.11.2021 10:33) <dirty>\n",
      "Establishing gRPC connection to localhost:50058...\n",
      "Standard Qubit-Platform running on ZCU111 board\n",
      "QiController firmware built 2021-11-28 20:35:34 (rev. 714)\n",
      "Firmware with 10 digital unit cells detected.\n"
     ]
    }
   ],
   "source": [
    "qic = ql.QiController('localhost')"
   ]
  },
  {
   "cell_type": "code",
   "execution_count": 4,
   "metadata": {},
   "outputs": [],
   "source": [
    "sample = QiSample(1)\n",
    "sample[0][\"rec_pulse\"] = 400e-9      # duration of readout pulse\n",
    "sample[0][\"rec_length\"] = 400e-9     # duration of recording\n",
    "sample[0][\"rec_frequency\"] = 60e6    # IF frequency for readout pulse\n",
    "sample[0][\"manip_frequency\"] = 80e6  # IF frequency for control pulse\n",
    "sample[0][\"pi\"] = 160e-9             # pi pulse duration\n",
    "sample[0][\"T1\"] = 2e-6               # 1/5 of delay to thermalize qubit"
   ]
  },
  {
   "cell_type": "code",
   "execution_count": 5,
   "metadata": {},
   "outputs": [
    {
     "data": {
      "application/vnd.jupyter.widget-view+json": {
       "model_id": "c7c0b5bd6a2d4629b1a8b279c07b3f2a",
       "version_major": 2,
       "version_minor": 0
      },
      "text/plain": [
       "HTML(value=\"<table style='width:100%'><tr><td> (0/100) </td><td>&#9992; -?-    </td><td>&#128336;  --:--:--   …"
      ]
     },
     "metadata": {},
     "output_type": "display_data"
    },
    {
     "data": {
      "application/vnd.jupyter.widget-view+json": {
       "model_id": "20794420885b4b8e8d28b00d58e069b8",
       "version_major": 2,
       "version_minor": 0
      },
      "text/plain": [
       "IntProgress(value=0, description='Averages', layout=Layout(width='95%'))"
      ]
     },
     "metadata": {},
     "output_type": "display_data"
    },
    {
     "data": {
      "application/vnd.jupyter.widget-view+json": {
       "model_id": "e9d2b6003a10486db9b710f5e6fea03c",
       "version_major": 2,
       "version_minor": 0
      },
      "text/plain": [
       "HTML(value=\"<table style='width:100%'><tr><td> (0/256) </td><td>&#9992; -?-    </td><td>&#128336;  --:--:--   …"
      ]
     },
     "metadata": {},
     "output_type": "display_data"
    },
    {
     "data": {
      "application/vnd.jupyter.widget-view+json": {
       "model_id": "7765e71e98f1481dadeb4f05c60f0a09",
       "version_major": 2,
       "version_minor": 0
      },
      "text/plain": [
       "IntProgress(value=0, description='QiCode', layout=Layout(width='95%'), max=256)"
      ]
     },
     "metadata": {},
     "output_type": "display_data"
    },
    {
     "data": {
      "image/png": "[encoded data removed]",
      "text/plain": [
       "<Figure size 432x288 with 1 Axes>"
      ]
     },
     "metadata": {
      "needs_background": "light"
     },
     "output_type": "display_data"
    },
    {
     "name": "stdout",
     "output_type": "stream",
     "text": [
      "Optimal offset: 280.0 ns\n"
     ]
    },
    {
     "data": {
      "application/vnd.jupyter.widget-view+json": {
       "model_id": "b1f711237da54d0d90d5a7db85fd9710",
       "version_major": 2,
       "version_minor": 0
      },
      "text/plain": [
       "HTML(value=\"<table style='width:100%'><tr><td> (0/100) </td><td>&#9992; -?-    </td><td>&#128336;  --:--:--   …"
      ]
     },
     "metadata": {},
     "output_type": "display_data"
    },
    {
     "data": {
      "application/vnd.jupyter.widget-view+json": {
       "model_id": "60e9f3016bde4d5cb798376f703236d8",
       "version_major": 2,
       "version_minor": 0
      },
      "text/plain": [
       "IntProgress(value=0, description='Averages', layout=Layout(width='95%'))"
      ]
     },
     "metadata": {},
     "output_type": "display_data"
    },
    {
     "name": "stdout",
     "output_type": "stream",
     "text": [
      "Mirror sideband is 14.5 dB suppressed at recording input\n"
     ]
    },
    {
     "data": {
      "application/vnd.jupyter.widget-view+json": {
       "model_id": "dbcc09679f264864a6c537f9df4b3b72",
       "version_major": 2,
       "version_minor": 0
      },
      "text/plain": [
       "HTML(value=\"<table style='width:100%'><tr><td> (0/1000) </td><td>&#9992; -?-    </td><td>&#128336;  --:--:--  …"
      ]
     },
     "metadata": {},
     "output_type": "display_data"
    },
    {
     "data": {
      "application/vnd.jupyter.widget-view+json": {
       "model_id": "f70717cb297b44a6a1295fcab5fa14c2",
       "version_major": 2,
       "version_minor": 0
      },
      "text/plain": [
       "IntProgress(value=0, description='Averages', layout=Layout(width='95%'), max=1000)"
      ]
     },
     "metadata": {},
     "output_type": "display_data"
    },
    {
     "data": {
      "image/png": "[encoded data removed]",
      "text/plain": [
       "<Figure size 432x288 with 1 Axes>"
      ]
     },
     "metadata": {
      "needs_background": "light"
     },
     "output_type": "display_data"
    }
   ],
   "source": [
    "ql.init.calibrate_readout(qic, sample, averages=100)"
   ]
  },
  {
   "cell_type": "code",
   "execution_count": 6,
   "metadata": {},
   "outputs": [],
   "source": [
    "@QiGate\n",
    "def Readout(cell):\n",
    "    PlayReadout(cell, QiPulse(cell[\"rec_pulse\"]))\n",
    "    Recording(cell, cell[\"rec_length\"], cell[\"rec_offset\"], save_to=\"result\")\n",
    "\n",
    "@QiGate\n",
    "def PiPulse(cell):\n",
    "    Play(cell, QiPulse(cell[\"pi\"]))\n",
    "\n",
    "@QiGate\n",
    "def PiHalfPulse(cell):\n",
    "    Play(cell, QiPulse(cell[\"pi\"] / 2))"
   ]
  },
  {
   "cell_type": "code",
   "execution_count": 7,
   "metadata": {},
   "outputs": [
    {
     "name": "stdout",
     "output_type": "stream",
     "text": [
      "Print program for cell index 0\n",
      "0# Op: TRIGGER, mod0: 0x0, mod1: 0x0, mod2: 0x0, mod3: 0x0\n",
      "\n",
      "1# Op: REG_IMM, dst: 1, funct3: ADD, rs1: 0, immediate: 0x0 \n",
      "\n",
      "2# Op: TRIGGER, mod0: 0x0, mod1: 0x1, mod2: 0x0, mod3: 0x0\n",
      "\n",
      "3# Op: WAIT_IMM, dst: 0, immediate: 0x46\n",
      "\n",
      "4# Op: LOAD_UPPER_IMM, dst: 2, immediate: 0x1dcd6000\n",
      "\n",
      "5# Op: REG_IMM, dst: 2, funct3: ADD, rs1: 2, immediate: 0x4fe \n",
      "\n",
      "6# Op: WAIT_REG, dst: 2, immediate: 0x0\n",
      "\n",
      "7# Op: REG_IMM, dst: 2, funct3: ADD, rs1: 0, immediate: 0x64 \n",
      "\n",
      "8# Op: REG_IMM, dst: 1, funct3: ADD, rs1: 0, immediate: 0x19 \n",
      "\n",
      "9# Op: BRANCH, funct3: BGE, rs1: 1, rs2: 2, immediate: 0xb\n",
      "\n",
      "10# Op: TRIGGER, mod0: 0x0, mod1: 0x0, mod2: 0x1, mod3: 0x0\n",
      "\n",
      "11# Op: TRIG_WAIT_REG, dst: 1, immediate: 0x0\n",
      "\n",
      "12# Op: TRIGGER, mod0: 0x1, mod1: 0x1, mod2: 0xe, mod3: 0x0\n",
      "\n",
      "13# Op: TRIG_WAIT_REG, dst: 1, immediate: 0x0\n",
      "\n",
      "14# Op: TRIGGER, mod0: 0xe, mod1: 0x0, mod2: 0x0, mod3: 0x0\n",
      "\n",
      "15# Op: LOAD_UPPER_IMM, dst: 3, immediate: 0x1dcd6000\n",
      "\n",
      "16# Op: REG_IMM, dst: 3, funct3: ADD, rs1: 3, immediate: 0x4fe \n",
      "\n",
      "17# Op: WAIT_REG, dst: 3, immediate: 0x0\n",
      "\n",
      "18# Op: REG_IMM, dst: 1, funct3: ADD, rs1: 1, immediate: 0x19 \n",
      "\n",
      "19# Op: JUMP, immediate: -0xa\n",
      "\n",
      "20# Op: SYNCH, funct3: START, rs1: 0, rs2: 0, immediate: 0x0\n",
      "\n"
     ]
    },
    {
     "name": "stderr",
     "output_type": "stream",
     "text": [
      "/home/rgebauer/phd/projects/qup_client/qiclib/code/qi_jobs.py:250: UserWarning: Readout pulses without frequency given, using 30 MHz.\n",
      "  warnings.warn(\"Readout pulses without frequency given, using 30 MHz.\")\n",
      "/home/rgebauer/phd/projects/qup_client/qiclib/code/qi_jobs.py:210: UserWarning: Manipulation pulses without frequency given, using 90 MHz.\n",
      "  warnings.warn(\n"
     ]
    }
   ],
   "source": [
    "with QiJob() as rabi:\n",
    "    q = QiCells(1)\n",
    "    length = QiTimeVariable()\n",
    "    var1 = QiVariable(int, 0)\n",
    "    var2 = QiVariable(int)\n",
    "    \n",
    "    with ForRange(length, 0, 400e-9, 100e-9):\n",
    "        Play(q[0], QiPulse(length))\n",
    "        PlayReadout(q[0], QiPulse(length))\n",
    "        Recording(q[0], q[0][\"rec_offset\"])\n",
    "        Wait(q[0], 2)\n",
    "\n",
    "rabi.print_assembler(sample)\n",
    "        \n",
    "rabi.run(qic, sample, averages=2)"
   ]
  },
  {
   "cell_type": "code",
   "execution_count": 8,
   "metadata": {},
   "outputs": [
    {
     "data": {
      "application/vnd.jupyter.widget-view+json": {
       "model_id": "f698a4155305439390ceee701089ea29",
       "version_major": 2,
       "version_minor": 0
      },
      "text/plain": [
       "HTML(value=\"<table style='width:100%'><tr><td> (0/1) </td><td>&#9992; -?-    </td><td>&#128336;  --:--:--   (e…"
      ]
     },
     "metadata": {},
     "output_type": "display_data"
    },
    {
     "data": {
      "application/vnd.jupyter.widget-view+json": {
       "model_id": "85e4eafa7880480183ad18ba4bae7c41",
       "version_major": 2,
       "version_minor": 0
      },
      "text/plain": [
       "IntProgress(value=0, description='Averages', layout=Layout(width='95%'), max=1)"
      ]
     },
     "metadata": {},
     "output_type": "display_data"
    },
    {
     "data": {
      "application/vnd.jupyter.widget-view+json": {
       "model_id": "d2dfa165691a4cd7a8f736d2b905cec5",
       "version_major": 2,
       "version_minor": 0
      },
      "text/plain": [
       "HTML(value=\"<table style='width:100%'><tr><td> (0/4) </td><td>&#9992; -?-    </td><td>&#128336;  --:--:--   (e…"
      ]
     },
     "metadata": {},
     "output_type": "display_data"
    },
    {
     "data": {
      "application/vnd.jupyter.widget-view+json": {
       "model_id": "8c6f05d01b5141c6bcb10a2b37871311",
       "version_major": 2,
       "version_minor": 0
      },
      "text/plain": [
       "IntProgress(value=0, description='QiCode', layout=Layout(width='95%'), max=4)"
      ]
     },
     "metadata": {},
     "output_type": "display_data"
    }
   ],
   "source": [
    "with QiJob() as T1:\n",
    "    q = QiCells(1)\n",
    "    length = QiTimeVariable()\n",
    "    with ForRange(length, 0, 400e-9, 100e-9):\n",
    "        PiPulse(q[0])\n",
    "        Wait(q[0], length)\n",
    "        Readout(q[0])\n",
    "        Wait(q[0], 2)\n",
    "        \n",
    "T1.run(qic, sample)"
   ]
  },
  {
   "cell_type": "code",
   "execution_count": 9,
   "metadata": {},
   "outputs": [
    {
     "data": {
      "application/vnd.jupyter.widget-view+json": {
       "model_id": "4ece53afec5045239e342c3179d99e0e",
       "version_major": 2,
       "version_minor": 0
      },
      "text/plain": [
       "HTML(value=\"<table style='width:100%'><tr><td> (0/1) </td><td>&#9992; -?-    </td><td>&#128336;  --:--:--   (e…"
      ]
     },
     "metadata": {},
     "output_type": "display_data"
    },
    {
     "data": {
      "application/vnd.jupyter.widget-view+json": {
       "model_id": "c406540021a54064812069176329d0a4",
       "version_major": 2,
       "version_minor": 0
      },
      "text/plain": [
       "IntProgress(value=0, description='Averages', layout=Layout(width='95%'), max=1)"
      ]
     },
     "metadata": {},
     "output_type": "display_data"
    },
    {
     "data": {
      "application/vnd.jupyter.widget-view+json": {
       "model_id": "eb460eff83e141a1bfa755e762a576e1",
       "version_major": 2,
       "version_minor": 0
      },
      "text/plain": [
       "HTML(value=\"<table style='width:100%'><tr><td> (0/5) </td><td>&#9992; -?-    </td><td>&#128336;  --:--:--   (e…"
      ]
     },
     "metadata": {},
     "output_type": "display_data"
    },
    {
     "data": {
      "application/vnd.jupyter.widget-view+json": {
       "model_id": "630c3963ae4c49ddad55b599e8823249",
       "version_major": 2,
       "version_minor": 0
      },
      "text/plain": [
       "IntProgress(value=0, description='QiCode', layout=Layout(width='95%'), max=5)"
      ]
     },
     "metadata": {},
     "output_type": "display_data"
    }
   ],
   "source": [
    "with QiJob() as ramsey:\n",
    "    q = QiCells(1)\n",
    "    length = QiTimeVariable()\n",
    "    with ForRange(length, 0, 100e-9, 24e-9):\n",
    "        PiHalfPulse(q[0])\n",
    "        Wait(q[0], length)\n",
    "        PiHalfPulse(q[0])\n",
    "        Readout(q[0])\n",
    "        Wait(q[0], 2)\n",
    "        \n",
    "ramsey.run(qic, sample)"
   ]
  },
  {
   "cell_type": "code",
   "execution_count": 10,
   "metadata": {},
   "outputs": [
    {
     "data": {
      "application/vnd.jupyter.widget-view+json": {
       "model_id": "bb8d05ab56cb4baa952ee1865b67fa3d",
       "version_major": 2,
       "version_minor": 0
      },
      "text/plain": [
       "HTML(value=\"<table style='width:100%'><tr><td> (0/1) </td><td>&#9992; -?-    </td><td>&#128336;  --:--:--   (e…"
      ]
     },
     "metadata": {},
     "output_type": "display_data"
    },
    {
     "data": {
      "application/vnd.jupyter.widget-view+json": {
       "model_id": "2f043982bc7a47b18793563abd3efac8",
       "version_major": 2,
       "version_minor": 0
      },
      "text/plain": [
       "IntProgress(value=0, description='Averages', layout=Layout(width='95%'), max=1)"
      ]
     },
     "metadata": {},
     "output_type": "display_data"
    },
    {
     "data": {
      "application/vnd.jupyter.widget-view+json": {
       "model_id": "756e4c1135594e709ce57ec1a8c52032",
       "version_major": 2,
       "version_minor": 0
      },
      "text/plain": [
       "HTML(value=\"<table style='width:100%'><tr><td> (0/5) </td><td>&#9992; -?-    </td><td>&#128336;  --:--:--   (e…"
      ]
     },
     "metadata": {},
     "output_type": "display_data"
    },
    {
     "data": {
      "application/vnd.jupyter.widget-view+json": {
       "model_id": "02e5b5dec64040b6a7a1b61b0b0166a5",
       "version_major": 2,
       "version_minor": 0
      },
      "text/plain": [
       "IntProgress(value=0, description='QiCode', layout=Layout(width='95%'), max=5)"
      ]
     },
     "metadata": {},
     "output_type": "display_data"
    }
   ],
   "source": [
    "with QiJob() as spin_echo:\n",
    "    q = QiCells(1)\n",
    "    length = QiTimeVariable()\n",
    "    with ForRange(length, 0, 100e-9, 24e-9):\n",
    "        PiHalfPulse(q[0])\n",
    "        Wait(q[0], length)\n",
    "        PiPulse(q[0])\n",
    "        Wait(q[0], length)\n",
    "        PiHalfPulse(q[0])\n",
    "        Readout(q[0])\n",
    "        Wait(q[0], 2)\n",
    "        \n",
    "spin_echo.run(qic, sample)"
   ]
  },
  {
   "cell_type": "code",
   "execution_count": 11,
   "metadata": {},
   "outputs": [],
   "source": [
    "with QiJob() as nested_loop:\n",
    "    q = QiCells(1)\n",
    "    p1_length = QiTimeVariable()\n",
    "    p2_length = QiTimeVariable()\n",
    "    #result = QiResult()\n",
    "    \n",
    "    with ForRange(p1_length, 0, 52e-9, 4e-9):\n",
    "        with ForRange(p2_length, 0, 52e-9, 4e-9):\n",
    "            PlayReadout(q[0], QiPulse(length=p1_length))\n",
    "            Play(q[0], QiPulse(length=p2_length))\n",
    "            #Recording(q[0], result)\n",
    "            Wait(q[0], 0.5)\n",
    "    "
   ]
  },
  {
   "cell_type": "code",
   "execution_count": 12,
   "metadata": {},
   "outputs": [
    {
     "name": "stdout",
     "output_type": "stream",
     "text": [
      "Print program for cell index 0\n",
      "0# Op: TRIGGER, mod0: 0x0, mod1: 0x0, mod2: 0x0, mod3: 0x0\n",
      "\n",
      "1# Op: REG_IMM, dst: 1, funct3: ADD, rs1: 0, immediate: 0x0 \n",
      "\n",
      "2# Op: REG_IMM, dst: 2, funct3: ADD, rs1: 0, immediate: 0x0 \n",
      "\n",
      "3# Op: LOAD_UPPER_IMM, dst: 3, immediate: 0x7736000\n",
      "\n",
      "4# Op: REG_IMM, dst: 3, funct3: ADD, rs1: 3, immediate: 0x93e \n",
      "\n",
      "5# Op: WAIT_REG, dst: 3, immediate: 0x0\n",
      "\n",
      "6# Op: REG_IMM, dst: 2, funct3: ADD, rs1: 0, immediate: 0x1 \n",
      "\n",
      "7# Op: TRIGGER, mod0: 0x0, mod1: 0x0, mod2: 0x1, mod3: 0x0\n",
      "\n",
      "8# Op: TRIGGER, mod0: 0x0, mod1: 0x0, mod2: 0xe, mod3: 0x0\n",
      "\n",
      "9# Op: LOAD_UPPER_IMM, dst: 3, immediate: 0x7736000\n",
      "\n",
      "10# Op: REG_IMM, dst: 3, funct3: ADD, rs1: 3, immediate: 0x93e \n",
      "\n",
      "11# Op: WAIT_REG, dst: 3, immediate: 0x0\n",
      "\n",
      "12# Op: REG_IMM, dst: 3, funct3: ADD, rs1: 0, immediate: 0xd \n",
      "\n",
      "13# Op: REG_IMM, dst: 2, funct3: ADD, rs1: 0, immediate: 0x2 \n",
      "\n",
      "14# Op: BRANCH, funct3: BGE, rs1: 2, rs2: 3, immediate: 0x9\n",
      "\n",
      "15# Op: TRIGGER, mod0: 0x0, mod1: 0x0, mod2: 0x1, mod3: 0x0\n",
      "\n",
      "16# Op: TRIG_WAIT_REG, dst: 2, immediate: 0x0\n",
      "\n",
      "17# Op: TRIGGER, mod0: 0x0, mod1: 0x0, mod2: 0xe, mod3: 0x0\n",
      "\n",
      "18# Op: LOAD_UPPER_IMM, dst: 4, immediate: 0x7736000\n",
      "\n",
      "19# Op: REG_IMM, dst: 4, funct3: ADD, rs1: 4, immediate: 0x93e \n",
      "\n",
      "20# Op: WAIT_REG, dst: 4, immediate: 0x0\n",
      "\n",
      "21# Op: REG_IMM, dst: 2, funct3: ADD, rs1: 2, immediate: 0x1 \n",
      "\n",
      "22# Op: JUMP, immediate: -0x8\n",
      "\n",
      "23# Op: REG_IMM, dst: 1, funct3: ADD, rs1: 0, immediate: 0x1 \n",
      "\n",
      "24# Op: REG_IMM, dst: 2, funct3: ADD, rs1: 0, immediate: 0x0 \n",
      "\n",
      "25# Op: TRIGGER, mod0: 0x1, mod1: 0x0, mod2: 0x0, mod3: 0x0\n",
      "\n",
      "26# Op: TRIGGER, mod0: 0xe, mod1: 0x0, mod2: 0x0, mod3: 0x0\n",
      "\n",
      "27# Op: LOAD_UPPER_IMM, dst: 3, immediate: 0x7736000\n",
      "\n",
      "28# Op: REG_IMM, dst: 3, funct3: ADD, rs1: 3, immediate: 0x93e \n",
      "\n",
      "29# Op: WAIT_REG, dst: 3, immediate: 0x0\n",
      "\n",
      "30# Op: REG_IMM, dst: 2, funct3: ADD, rs1: 0, immediate: 0x1 \n",
      "\n",
      "31# Op: TRIGGER, mod0: 0x1, mod1: 0x0, mod2: 0x0, mod3: 0x0\n",
      "\n",
      "32# Op: TRIGGER, mod0: 0xe, mod1: 0x0, mod2: 0x1, mod3: 0x0\n",
      "\n",
      "33# Op: TRIGGER, mod0: 0x0, mod1: 0x0, mod2: 0xe, mod3: 0x0\n",
      "\n",
      "34# Op: LOAD_UPPER_IMM, dst: 3, immediate: 0x7736000\n",
      "\n",
      "35# Op: REG_IMM, dst: 3, funct3: ADD, rs1: 3, immediate: 0x93e \n",
      "\n",
      "36# Op: WAIT_REG, dst: 3, immediate: 0x0\n",
      "\n",
      "37# Op: REG_IMM, dst: 3, funct3: ADD, rs1: 0, immediate: 0xd \n",
      "\n",
      "38# Op: REG_IMM, dst: 2, funct3: ADD, rs1: 0, immediate: 0x2 \n",
      "\n",
      "39# Op: BRANCH, funct3: BGE, rs1: 2, rs2: 3, immediate: 0xa\n",
      "\n",
      "40# Op: TRIGGER, mod0: 0x1, mod1: 0x0, mod2: 0x0, mod3: 0x0\n",
      "\n",
      "41# Op: TRIGGER, mod0: 0xe, mod1: 0x0, mod2: 0x1, mod3: 0x0\n",
      "\n",
      "42# Op: TRIG_WAIT_REG, dst: 2, immediate: 0x0\n",
      "\n",
      "43# Op: TRIGGER, mod0: 0x0, mod1: 0x0, mod2: 0xe, mod3: 0x0\n",
      "\n",
      "44# Op: LOAD_UPPER_IMM, dst: 4, immediate: 0x7736000\n",
      "\n",
      "45# Op: REG_IMM, dst: 4, funct3: ADD, rs1: 4, immediate: 0x93e \n",
      "\n",
      "46# Op: WAIT_REG, dst: 4, immediate: 0x0\n",
      "\n",
      "47# Op: REG_IMM, dst: 2, funct3: ADD, rs1: 2, immediate: 0x1 \n",
      "\n",
      "48# Op: JUMP, immediate: -0x9\n",
      "\n",
      "49# Op: REG_IMM, dst: 3, funct3: ADD, rs1: 0, immediate: 0xd \n",
      "\n",
      "50# Op: REG_IMM, dst: 1, funct3: ADD, rs1: 0, immediate: 0x2 \n",
      "\n",
      "51# Op: BRANCH, funct3: BGE, rs1: 1, rs2: 3, immediate: 0x1f\n",
      "\n",
      "52# Op: REG_IMM, dst: 2, funct3: ADD, rs1: 0, immediate: 0x0 \n",
      "\n",
      "53# Op: TRIGGER, mod0: 0x1, mod1: 0x0, mod2: 0x0, mod3: 0x0\n",
      "\n",
      "54# Op: TRIG_WAIT_REG, dst: 1, immediate: 0x0\n",
      "\n",
      "55# Op: TRIGGER, mod0: 0xe, mod1: 0x0, mod2: 0x0, mod3: 0x0\n",
      "\n",
      "56# Op: LOAD_UPPER_IMM, dst: 4, immediate: 0x7736000\n",
      "\n",
      "57# Op: REG_IMM, dst: 4, funct3: ADD, rs1: 4, immediate: 0x93e \n",
      "\n",
      "58# Op: WAIT_REG, dst: 4, immediate: 0x0\n",
      "\n",
      "59# Op: REG_IMM, dst: 2, funct3: ADD, rs1: 0, immediate: 0x1 \n",
      "\n",
      "60# Op: TRIGGER, mod0: 0x1, mod1: 0x0, mod2: 0x0, mod3: 0x0\n",
      "\n",
      "61# Op: TRIG_WAIT_REG, dst: 1, immediate: 0x0\n",
      "\n",
      "62# Op: TRIGGER, mod0: 0xe, mod1: 0x0, mod2: 0x1, mod3: 0x0\n",
      "\n",
      "63# Op: TRIGGER, mod0: 0x0, mod1: 0x0, mod2: 0xe, mod3: 0x0\n",
      "\n",
      "64# Op: LOAD_UPPER_IMM, dst: 4, immediate: 0x7736000\n",
      "\n",
      "65# Op: REG_IMM, dst: 4, funct3: ADD, rs1: 4, immediate: 0x93e \n",
      "\n",
      "66# Op: WAIT_REG, dst: 4, immediate: 0x0\n",
      "\n",
      "67# Op: REG_IMM, dst: 4, funct3: ADD, rs1: 0, immediate: 0xd \n",
      "\n",
      "68# Op: REG_IMM, dst: 2, funct3: ADD, rs1: 0, immediate: 0x2 \n",
      "\n",
      "69# Op: BRANCH, funct3: BGE, rs1: 2, rs2: 4, immediate: 0xb\n",
      "\n",
      "70# Op: TRIGGER, mod0: 0x1, mod1: 0x0, mod2: 0x0, mod3: 0x0\n",
      "\n",
      "71# Op: TRIG_WAIT_REG, dst: 1, immediate: 0x0\n",
      "\n",
      "72# Op: TRIGGER, mod0: 0xe, mod1: 0x0, mod2: 0x1, mod3: 0x0\n",
      "\n",
      "73# Op: TRIG_WAIT_REG, dst: 2, immediate: 0x0\n",
      "\n",
      "74# Op: TRIGGER, mod0: 0x0, mod1: 0x0, mod2: 0xe, mod3: 0x0\n",
      "\n",
      "75# Op: LOAD_UPPER_IMM, dst: 5, immediate: 0x7736000\n",
      "\n",
      "76# Op: REG_IMM, dst: 5, funct3: ADD, rs1: 5, immediate: 0x93e \n",
      "\n",
      "77# Op: WAIT_REG, dst: 5, immediate: 0x0\n",
      "\n",
      "78# Op: REG_IMM, dst: 2, funct3: ADD, rs1: 2, immediate: 0x1 \n",
      "\n",
      "79# Op: JUMP, immediate: -0xa\n",
      "\n",
      "80# Op: REG_IMM, dst: 1, funct3: ADD, rs1: 1, immediate: 0x1 \n",
      "\n",
      "81# Op: JUMP, immediate: -0x1e\n",
      "\n",
      "82# Op: SYNCH, funct3: START, rs1: 0, rs2: 0, immediate: 0x0\n",
      "\n"
     ]
    }
   ],
   "source": [
    "nested_loop.print_assembler()"
   ]
  },
  {
   "cell_type": "code",
   "execution_count": 13,
   "metadata": {},
   "outputs": [],
   "source": [
    "nested_loop.run(qic, averages = 1)"
   ]
  },
  {
   "cell_type": "code",
   "execution_count": 14,
   "metadata": {},
   "outputs": [
    {
     "name": "stdout",
     "output_type": "stream",
     "text": [
      "Print program for cell index 0\n"
     ]
    },
    {
     "ename": "ValueError",
     "evalue": "Cell 1 of the job has unresolved properties but no QiSample object is specified for this cell!",
     "output_type": "error",
     "traceback": [
      "\u001b[0;31m---------------------------------------------------------------------------\u001b[0m",
      "\u001b[0;31mValueError\u001b[0m                                Traceback (most recent call last)",
      "\u001b[0;32m/tmp/ipykernel_69121/1046491824.py\u001b[0m in \u001b[0;36m<module>\u001b[0;34m\u001b[0m\n\u001b[1;32m     11\u001b[0m     \u001b[0mWait\u001b[0m\u001b[0;34m(\u001b[0m\u001b[0mq\u001b[0m\u001b[0;34m[\u001b[0m\u001b[0;36m1\u001b[0m\u001b[0;34m]\u001b[0m\u001b[0;34m,\u001b[0m \u001b[0;36m2\u001b[0m\u001b[0;34m)\u001b[0m\u001b[0;34m\u001b[0m\u001b[0;34m\u001b[0m\u001b[0m\n\u001b[1;32m     12\u001b[0m \u001b[0;34m\u001b[0m\u001b[0m\n\u001b[0;32m---> 13\u001b[0;31m \u001b[0mmultiple\u001b[0m\u001b[0;34m.\u001b[0m\u001b[0mprint_assembler\u001b[0m\u001b[0;34m(\u001b[0m\u001b[0msample\u001b[0m\u001b[0;34m,\u001b[0m \u001b[0;36m0\u001b[0m\u001b[0;34m)\u001b[0m\u001b[0;34m\u001b[0m\u001b[0;34m\u001b[0m\u001b[0m\n\u001b[0m\u001b[1;32m     14\u001b[0m \u001b[0mmultiple\u001b[0m\u001b[0;34m.\u001b[0m\u001b[0mprint_assembler\u001b[0m\u001b[0;34m(\u001b[0m\u001b[0msample\u001b[0m\u001b[0;34m,\u001b[0m \u001b[0;36m1\u001b[0m\u001b[0;34m)\u001b[0m\u001b[0;34m\u001b[0m\u001b[0;34m\u001b[0m\u001b[0m\n\u001b[1;32m     15\u001b[0m \u001b[0mmultiple\u001b[0m\u001b[0;34m.\u001b[0m\u001b[0mrun\u001b[0m\u001b[0;34m(\u001b[0m\u001b[0mqic\u001b[0m\u001b[0;34m,\u001b[0m \u001b[0msample\u001b[0m\u001b[0;34m,\u001b[0m \u001b[0maverages\u001b[0m\u001b[0;34m=\u001b[0m\u001b[0;36m10\u001b[0m\u001b[0;34m)\u001b[0m\u001b[0;34m\u001b[0m\u001b[0;34m\u001b[0m\u001b[0m\n",
      "\u001b[0;32m~/phd/projects/qup_client/qiclib/code/qi_jobs.py\u001b[0m in \u001b[0;36mprint_assembler\u001b[0;34m(self, cells, cell_index)\u001b[0m\n\u001b[1;32m   1708\u001b[0m         \"\"\"\n\u001b[1;32m   1709\u001b[0m         \u001b[0mprint\u001b[0m\u001b[0;34m(\u001b[0m\u001b[0;34mf\"Print program for cell index {cell_index}\"\u001b[0m\u001b[0;34m)\u001b[0m\u001b[0;34m\u001b[0m\u001b[0;34m\u001b[0m\u001b[0m\n\u001b[0;32m-> 1710\u001b[0;31m         \u001b[0mself\u001b[0m\u001b[0;34m.\u001b[0m\u001b[0m_build_program\u001b[0m\u001b[0;34m(\u001b[0m\u001b[0mcells\u001b[0m\u001b[0;34m)\u001b[0m\u001b[0;34m\u001b[0m\u001b[0;34m\u001b[0m\u001b[0m\n\u001b[0m\u001b[1;32m   1711\u001b[0m \u001b[0;34m\u001b[0m\u001b[0m\n\u001b[1;32m   1712\u001b[0m         \u001b[0mcell\u001b[0m \u001b[0;34m=\u001b[0m \u001b[0mself\u001b[0m\u001b[0;34m.\u001b[0m\u001b[0mcells\u001b[0m\u001b[0;34m[\u001b[0m\u001b[0mcell_index\u001b[0m\u001b[0;34m]\u001b[0m\u001b[0;34m\u001b[0m\u001b[0;34m\u001b[0m\u001b[0m\n",
      "\u001b[0;32m~/phd/projects/qup_client/qiclib/code/qi_jobs.py\u001b[0m in \u001b[0;36m_build_program\u001b[0;34m(self, sample, cell_map)\u001b[0m\n\u001b[1;32m   1512\u001b[0m \u001b[0;34m\u001b[0m\u001b[0m\n\u001b[1;32m   1513\u001b[0m         \u001b[0;31m# TODO Check that this works with None and right order now\u001b[0m\u001b[0;34m\u001b[0m\u001b[0;34m\u001b[0m\u001b[0m\n\u001b[0;32m-> 1514\u001b[0;31m         \u001b[0mself\u001b[0m\u001b[0;34m.\u001b[0m\u001b[0m_resolve_properties\u001b[0m\u001b[0;34m(\u001b[0m\u001b[0msample\u001b[0m\u001b[0;34m)\u001b[0m\u001b[0;34m\u001b[0m\u001b[0;34m\u001b[0m\u001b[0m\n\u001b[0m\u001b[1;32m   1515\u001b[0m \u001b[0;34m\u001b[0m\u001b[0m\n\u001b[1;32m   1516\u001b[0m         \u001b[0;32mfor\u001b[0m \u001b[0mcell\u001b[0m \u001b[0;32min\u001b[0m \u001b[0mself\u001b[0m\u001b[0;34m.\u001b[0m\u001b[0mcells\u001b[0m\u001b[0;34m:\u001b[0m\u001b[0;34m\u001b[0m\u001b[0;34m\u001b[0m\u001b[0m\n",
      "\u001b[0;32m~/phd/projects/qup_client/qiclib/code/qi_jobs.py\u001b[0m in \u001b[0;36m_resolve_properties\u001b[0;34m(self, sample)\u001b[0m\n\u001b[1;32m   1727\u001b[0m                     \u001b[0mcell\u001b[0m\u001b[0;34m.\u001b[0m\u001b[0m_resolve_properties\u001b[0m\u001b[0;34m(\u001b[0m\u001b[0msample\u001b[0m\u001b[0;34m[\u001b[0m\u001b[0mi\u001b[0m\u001b[0;34m]\u001b[0m\u001b[0;34m.\u001b[0m\u001b[0m_length_dict\u001b[0m\u001b[0;34m)\u001b[0m\u001b[0;34m\u001b[0m\u001b[0;34m\u001b[0m\u001b[0m\n\u001b[1;32m   1728\u001b[0m                 \u001b[0;32melse\u001b[0m\u001b[0;34m:\u001b[0m\u001b[0;34m\u001b[0m\u001b[0;34m\u001b[0m\u001b[0m\n\u001b[0;32m-> 1729\u001b[0;31m                     raise ValueError(\n\u001b[0m\u001b[1;32m   1730\u001b[0m                         \u001b[0;34mf\"Cell {i} of the job has unresolved properties but no QiSample \"\u001b[0m\u001b[0;34m\u001b[0m\u001b[0;34m\u001b[0m\u001b[0m\n\u001b[1;32m   1731\u001b[0m                         \u001b[0;34m\"object is specified for this cell!\"\u001b[0m\u001b[0;34m\u001b[0m\u001b[0;34m\u001b[0m\u001b[0m\n",
      "\u001b[0;31mValueError\u001b[0m: Cell 1 of the job has unresolved properties but no QiSample object is specified for this cell!"
     ]
    }
   ],
   "source": [
    "with QiJob() as multiple:\n",
    "    q = QiCells(2)\n",
    "    length = QiTimeVariable(100e-9)\n",
    "    \n",
    "    Play(q[0], QiPulse(length))\n",
    "    Play(q[1], QiPulse(length))\n",
    "    Readout(q[1])\n",
    "    Readout(q[0])\n",
    "    \n",
    "    Wait(q[0], 2)\n",
    "    Wait(q[1], 2)\n",
    "\n",
    "multiple.print_assembler(sample, 0)\n",
    "multiple.print_assembler(sample, 1)\n",
    "multiple.run(qic, sample, averages=10)\n",
    "    "
   ]
  },
  {
   "cell_type": "code",
   "execution_count": null,
   "metadata": {},
   "outputs": [
    {
     "name": "stdout",
     "output_type": "stream",
     "text": [
      "Print program for cell index 0\n",
      "0# Op: TRIGGER, mod0: 0xf, mod1: 0xf, mod2: 0xf, mod3: 0xf\n",
      "\n",
      "1# Op: REG_IMM, dst: 1, funct3: ADD, rs1: 0, immediate: 0x2\n",
      "\n",
      "2# Op: TRIGGER, mod0: 0x0, mod1: 0x0, mod2: 0x1, mod3: 0x0\n",
      "\n",
      "3# Op: WAIT_IMM, dst: 0, immediate: 0xc\n",
      "\n",
      "4# Op: REG_IMM, dst: 1, funct3: ADD, rs1: 0, immediate: 0x2\n",
      "\n",
      "5# Op: WAIT_REG, dst: 1, immediate: 0x0\n",
      "\n",
      "6# Op: LOAD_UPPER_IMM, dst: 2, immediate: 0xee6b000\n",
      "\n",
      "7# Op: REG_IMM, dst: 2, funct3: ADD, rs1: 2, immediate: 0x27e\n",
      "\n",
      "8# Op: SYNCH, funct3: START_REG, rs1: 0, rs2: 2, immediate: 0x0\n",
      "\n"
     ]
    }
   ],
   "source": [
    "multiple.print_assembler(0)"
   ]
  },
  {
   "cell_type": "code",
   "execution_count": null,
   "metadata": {},
   "outputs": [
    {
     "name": "stdout",
     "output_type": "stream",
     "text": [
      "Print program for cell index 1\n",
      "0# Op: TRIGGER, mod0: 0xf, mod1: 0xf, mod2: 0xf, mod3: 0xf\n",
      "\n",
      "1# Op: WAIT_REG, dst: 1, immediate: 0x0\n",
      "\n",
      "2# Op: LOAD_UPPER_IMM, dst: 2, immediate: 0xee6b000\n",
      "\n",
      "3# Op: REG_IMM, dst: 2, funct3: ADD, rs1: 2, immediate: 0x27e\n",
      "\n",
      "4# Op: SYNCH, funct3: START_REG, rs1: 0, rs2: 2, immediate: 0x0\n",
      "\n"
     ]
    }
   ],
   "source": [
    "multiple.print_assembler(1)"
   ]
  },
  {
   "cell_type": "code",
   "execution_count": null,
   "metadata": {},
   "outputs": [],
   "source": [
    "with QiJob() as para_test:\n",
    "    q = para_test.cells\n",
    "    v_wait = QiTimeVariable(40e-9)\n",
    "    v_pulse = QiTimeVariable(60e-9)\n",
    "    \n",
    "    with Parallel():\n",
    "        Play(q[0], QiPulse(v_pulse))\n",
    "    with Parallel():\n",
    "        Wait(q[0], v_wait)\n",
    "        PlayReadout(q[0], QiPulse(v_pulse))\n",
    "\n",
    "    Wait(q[0],2)\n",
    "    \n",
    "    Assign(v_pulse, 40e-9)\n",
    "    Assign(v_wait, 0)\n",
    "    \n",
    "    with Parallel():\n",
    "        Play(q[0], QiPulse(v_pulse))\n",
    "    with Parallel():\n",
    "        Wait(q[0], v_wait)\n",
    "        PlayReadout(q[0], QiPulse(v_pulse))\n",
    "                    \n",
    "    Wait(q[0],2)"
   ]
  },
  {
   "cell_type": "code",
   "execution_count": null,
   "metadata": {},
   "outputs": [
    {
     "name": "stdout",
     "output_type": "stream",
     "text": [
      "Running program for cell index 0\n"
     ]
    }
   ],
   "source": [
    "para_test.run(qic, sample)"
   ]
  },
  {
   "cell_type": "code",
   "execution_count": null,
   "metadata": {},
   "outputs": [],
   "source": [
    "del v_wait"
   ]
  },
  {
   "cell_type": "code",
   "execution_count": null,
   "metadata": {},
   "outputs": [],
   "source": [
    "with QiJob() as pingpong:\n",
    "    q = QiCells(1)\n",
    "    v_wait = QiTimeVariable()\n",
    "    Assign(v_wait, 100e-9)\n",
    "    \n",
    "    with ForRange(v_wait, 0, 100e-9, 20e-9):    \n",
    "        with If(v_wait != 0):\n",
    "            PlayReadout(q[0], QiPulse(length=50e-9))\n",
    "            Wait(q[0], v_wait)\n",
    "        with Else():\n",
    "            with Parallel():\n",
    "                PlayReadout(q[0], QiPulse(length=50e-9))\n",
    "            with Parallel():\n",
    "                Play(q[0], QiPulse(length=50e-9))\n",
    "\n",
    "        Play(q[0], QiPulse(length=50e-9, amplitude=0.5, shape=ShapeLib.r_sphere))\n",
    "        Play(q[0], QiPulse(length=50e-9, amplitude=0.5, shape=ShapeLib.l_sphere))\n",
    "\n",
    "        Wait(q[0], 100e-9 - v_wait)\n",
    "        PlayReadout(q[0], QiPulse(length=50e-9))\n",
    "        Wait(q[0], 3)\n",
    "\n",
    "        \n",
    "    with ForRange(v_wait, 100e-9, 0, -20e-9):\n",
    "        PlayReadout(q[0], QiPulse(length=50e-9))\n",
    "        Wait(q[0], v_wait)\n",
    "\n",
    "        Play(q[0], QiPulse(length=50e-9, amplitude=0.5, shape=ShapeLib.r_sphere))\n",
    "        Play(q[0], QiPulse(length=50e-9, amplitude=0.5, shape=ShapeLib.l_sphere))\n",
    "\n",
    "        with If(v_wait == 100e-9):\n",
    "            with Parallel():\n",
    "                PlayReadout(q[0], QiPulse(length=50e-9))\n",
    "            with Parallel():\n",
    "                Play(q[0], QiPulse(length=50e-9))\n",
    "        with Else():\n",
    "            Wait(q[0], 100e-9 - v_wait)\n",
    "            PlayReadout(q[0], QiPulse(length=50e-9))\n",
    "        Wait(q[0], 3)\n",
    "        \n",
    "        "
   ]
  },
  {
   "cell_type": "code",
   "execution_count": null,
   "metadata": {
    "scrolled": true
   },
   "outputs": [
    {
     "name": "stdout",
     "output_type": "stream",
     "text": [
      "Print program for cell index 0\n",
      "0# Op: TRIGGER, mod0: 0xf, mod1: 0xf, mod2: 0xf, mod3: 0xf\n",
      "\n",
      "1# Op: REG_IMM, dst: 1, funct3: ADD, rs1: 0, immediate: 0x19\n",
      "\n",
      "2# Op: REG_IMM, dst: 1, funct3: ADD, rs1: 0, immediate: 0x0\n",
      "\n",
      "3# Op: BRANCH, funct3: BEQ, rs1: 1, rs2: 0, immediate: 0x4\n",
      "\n",
      "4# Op: TRIGGER, mod0: 0x1, mod1: 0x0, mod2: 0x0, mod3: 0x0\n",
      "\n",
      "5# Op: WAIT_IMM, dst: 0, immediate: 0xc\n",
      "\n",
      "6# Op: JUMP, immediate: 0x3\n",
      "\n",
      "7# Op: TRIGGER, mod0: 0x1, mod1: 0x0, mod2: 0x1, mod3: 0x0\n",
      "\n",
      "8# Op: WAIT_IMM, dst: 0, immediate: 0xc\n",
      "\n",
      "9# Op: TRIGGER, mod0: 0x0, mod1: 0x0, mod2: 0x2, mod3: 0x0\n",
      "\n",
      "10# Op: WAIT_IMM, dst: 0, immediate: 0xc\n",
      "\n",
      "11# Op: TRIGGER, mod0: 0x0, mod1: 0x0, mod2: 0x3, mod3: 0x0\n",
      "\n",
      "12# Op: WAIT_IMM, dst: 0, immediate: 0xc\n",
      "\n",
      "13# Op: REG_IMM, dst: 3, funct3: ADD, rs1: 0, immediate: 0x19\n",
      "\n",
      "14# Op: REGISTER_REGISTER, dst: 2, funct3: ADD_SUB_MUL, rs1: 3, rs2: 1, funct7: SUB\n",
      "\n",
      "15# Op: WAIT_REG, dst: 2, immediate: 0x0\n",
      "\n",
      "16# Op: TRIGGER, mod0: 0x1, mod1: 0x0, mod2: 0x0, mod3: 0x0\n",
      "\n",
      "17# Op: WAIT_IMM, dst: 0, immediate: 0xc\n",
      "\n",
      "18# Op: LOAD_UPPER_IMM, dst: 2, immediate: 0x1dcd6000\n",
      "\n",
      "19# Op: REG_IMM, dst: 2, funct3: ADD, rs1: 2, immediate: 0x4fe\n",
      "\n",
      "20# Op: WAIT_REG, dst: 2, immediate: 0x0\n",
      "\n",
      "21# Op: REG_IMM, dst: 2, funct3: ADD, rs1: 0, immediate: 0x19\n",
      "\n",
      "22# Op: REG_IMM, dst: 1, funct3: ADD, rs1: 0, immediate: 0x5\n",
      "\n",
      "23# Op: BRANCH, funct3: BEQ, rs1: 1, rs2: 2, immediate: 0x16\n",
      "\n",
      "24# Op: BRANCH, funct3: BEQ, rs1: 1, rs2: 0, immediate: 0x5\n",
      "\n",
      "25# Op: TRIGGER, mod0: 0x1, mod1: 0x0, mod2: 0x0, mod3: 0x0\n",
      "\n",
      "26# Op: WAIT_IMM, dst: 0, immediate: 0xc\n",
      "\n",
      "27# Op: WAIT_REG, dst: 1, immediate: 0x0\n",
      "\n",
      "28# Op: JUMP, immediate: 0x3\n",
      "\n",
      "29# Op: TRIGGER, mod0: 0x1, mod1: 0x0, mod2: 0x1, mod3: 0x0\n",
      "\n",
      "30# Op: WAIT_IMM, dst: 0, immediate: 0xc\n",
      "\n",
      "31# Op: TRIGGER, mod0: 0x0, mod1: 0x0, mod2: 0x2, mod3: 0x0\n",
      "\n",
      "32# Op: WAIT_IMM, dst: 0, immediate: 0xc\n",
      "\n",
      "33# Op: TRIGGER, mod0: 0x0, mod1: 0x0, mod2: 0x3, mod3: 0x0\n",
      "\n",
      "34# Op: WAIT_IMM, dst: 0, immediate: 0xc\n",
      "\n",
      "35# Op: REG_IMM, dst: 4, funct3: ADD, rs1: 0, immediate: 0x19\n",
      "\n",
      "36# Op: REGISTER_REGISTER, dst: 3, funct3: ADD_SUB_MUL, rs1: 4, rs2: 1, funct7: SUB\n",
      "\n",
      "37# Op: WAIT_REG, dst: 3, immediate: 0x0\n",
      "\n",
      "38# Op: TRIGGER, mod0: 0x1, mod1: 0x0, mod2: 0x0, mod3: 0x0\n",
      "\n",
      "39# Op: WAIT_IMM, dst: 0, immediate: 0xc\n",
      "\n",
      "40# Op: LOAD_UPPER_IMM, dst: 3, immediate: 0x1dcd6000\n",
      "\n",
      "41# Op: REG_IMM, dst: 3, funct3: ADD, rs1: 3, immediate: 0x4fe\n",
      "\n",
      "42# Op: WAIT_REG, dst: 3, immediate: 0x0\n",
      "\n",
      "43# Op: REG_IMM, dst: 1, funct3: ADD, rs1: 1, immediate: 0x5\n",
      "\n",
      "44# Op: JUMP, immediate: -0x15\n",
      "\n",
      "45# Op: REG_IMM, dst: 1, funct3: ADD, rs1: 0, immediate: 0x19\n",
      "\n",
      "46# Op: BRANCH, funct3: BEQ, rs1: 1, rs2: 0, immediate: 0x17\n",
      "\n",
      "47# Op: TRIGGER, mod0: 0x1, mod1: 0x0, mod2: 0x0, mod3: 0x0\n",
      "\n",
      "48# Op: WAIT_IMM, dst: 0, immediate: 0xc\n",
      "\n",
      "49# Op: WAIT_REG, dst: 1, immediate: 0x0\n",
      "\n",
      "50# Op: TRIGGER, mod0: 0x0, mod1: 0x0, mod2: 0x2, mod3: 0x0\n",
      "\n",
      "51# Op: WAIT_IMM, dst: 0, immediate: 0xc\n",
      "\n",
      "52# Op: TRIGGER, mod0: 0x0, mod1: 0x0, mod2: 0x3, mod3: 0x0\n",
      "\n",
      "53# Op: WAIT_IMM, dst: 0, immediate: 0xc\n",
      "\n",
      "54# Op: REG_IMM, dst: 2, funct3: ADD, rs1: 0, immediate: 0x19\n",
      "\n",
      "55# Op: BRANCH, funct3: BNE, rs1: 1, rs2: 2, immediate: 0x4\n",
      "\n",
      "56# Op: TRIGGER, mod0: 0x1, mod1: 0x0, mod2: 0x1, mod3: 0x0\n",
      "\n",
      "57# Op: WAIT_IMM, dst: 0, immediate: 0xc\n",
      "\n",
      "58# Op: JUMP, immediate: 0x6\n",
      "\n",
      "59# Op: REG_IMM, dst: 3, funct3: ADD, rs1: 0, immediate: 0x19\n",
      "\n",
      "60# Op: REGISTER_REGISTER, dst: 2, funct3: ADD_SUB_MUL, rs1: 3, rs2: 1, funct7: SUB\n",
      "\n",
      "61# Op: WAIT_REG, dst: 2, immediate: 0x0\n",
      "\n",
      "62# Op: TRIGGER, mod0: 0x1, mod1: 0x0, mod2: 0x0, mod3: 0x0\n",
      "\n",
      "63# Op: WAIT_IMM, dst: 0, immediate: 0xc\n",
      "\n",
      "64# Op: LOAD_UPPER_IMM, dst: 2, immediate: 0x1dcd6000\n",
      "\n",
      "65# Op: REG_IMM, dst: 2, funct3: ADD, rs1: 2, immediate: 0x4fe\n",
      "\n",
      "66# Op: WAIT_REG, dst: 2, immediate: 0x0\n",
      "\n",
      "67# Op: REG_IMM, dst: 1, funct3: ADD, rs1: 1, immediate: 0xffb\n",
      "\n",
      "68# Op: JUMP, immediate: -0x16\n",
      "\n",
      "69# Op: SYNCH, funct3: START, rs1: 0, rs2: 0, immediate: 0x0\n",
      "\n"
     ]
    },
    {
     "name": "stderr",
     "output_type": "stream",
     "text": [
      "/home/rainer/sources/qi_code/qi_code/qi_sequencer.py:417: UserWarning: Calculations inside wait might impede timing\n",
      "  warnings.warn(\"Calculations inside wait might impede timing\")\n"
     ]
    }
   ],
   "source": [
    "pingpong.print_assembler()"
   ]
  },
  {
   "cell_type": "code",
   "execution_count": null,
   "metadata": {},
   "outputs": [
    {
     "name": "stdout",
     "output_type": "stream",
     "text": [
      "Running program for cell index 0\n"
     ]
    }
   ],
   "source": [
    "pingpong.run(qic, sample)"
   ]
  },
  {
   "cell_type": "code",
   "execution_count": null,
   "metadata": {},
   "outputs": [],
   "source": []
  }
 ],
 "metadata": {
  "kernelspec": {
   "display_name": "Python 3",
   "language": "python",
   "name": "python3"
  },
  "language_info": {
   "codemirror_mode": {
    "name": "ipython",
    "version": 3
   },
   "file_extension": ".py",
   "mimetype": "text/x-python",
   "name": "python",
   "nbconvert_exporter": "python",
   "pygments_lexer": "ipython3",
   "version": "3.9.7"
  }
 },
 "nbformat": 4,
 "nbformat_minor": 4
}
